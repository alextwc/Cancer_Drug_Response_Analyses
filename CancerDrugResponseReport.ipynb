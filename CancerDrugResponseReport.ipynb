{
 "cells": [
  {
   "cell_type": "markdown",
   "metadata": {},
   "source": [
    "\n",
    "# Title:  \"Cancer Drug Response Analyses\"\n",
    "## Author: \"Dr. Alex Tzuu-Wang Chang\"\n",
    "### Date: \"May/24/2019\"\n",
    "\n",
    "Given a set of \"Mutation Annotation Format (MAF)\" files of 50 cancer patients. 25 patients belong to drug RESPONDER group and the other 25 patients belong to drug NON-RESPONDER group. The mission is to discover the potential association between gene mutations and drug response. I will apply two types of statistical analyses to test the statistical association between mutated genes (from given patient MAF files) and cancer drug response outcome. The analyeses are dedicaterd to Precision Medicine (or called Personal Medicine) and Companion Diagnostics.  \n",
    "\n",
    "First I will perform \"Logistic Regression to test the significant association between gene mutation frequency and durg response outcome. Secondly I will perform \"Pairwise Fisher Exact Test\" to examine the same thing with Logistic Regression.\n",
    "\n",
    "# Logistic Regression (Y~X1+X2+......X1166, Y:response, X:genes)\n",
    "In order to apply the logistic regression under R environment I have to create two matrix stored in DataFrame format.\n",
    "The first Matrix stored the information of frequence of each mutated gene across 50 tumorous patients.\n",
    "The second Matrix stored the information of Sample information such as Drug Response and Mutation rate of each patient.\n",
    "\n",
    "By the way, I will only test 1166 common shared mutated genes between responders and non-responders.\n",
    "For those genes that only happened mutations on one side which means the gene mutations exist only in responders group or in non-responders group won't be enrolled into this analysis for their missing values property. \n"
   ]
  },
  {
   "cell_type": "code",
   "execution_count": 28,
   "metadata": {},
   "outputs": [
    {
     "data": {
      "text/html": [
       "'C:/Users/alextwc/Documents/JupyterNotebookFiles/R_Projects/VanallenAssessment'"
      ],
      "text/latex": [
       "'C:/Users/alextwc/Documents/JupyterNotebookFiles/R\\_Projects/VanallenAssessment'"
      ],
      "text/markdown": [
       "'C:/Users/alextwc/Documents/JupyterNotebookFiles/R_Projects/VanallenAssessment'"
      ],
      "text/plain": [
       "[1] \"C:/Users/alextwc/Documents/JupyterNotebookFiles/R_Projects/VanallenAssessment\""
      ]
     },
     "metadata": {},
     "output_type": "display_data"
    },
    {
     "data": {
      "text/html": [
       "<ol class=list-inline>\n",
       "\t<li>'20161208.R.codes13.txt'</li>\n",
       "\t<li>'Coding assessment.docx'</li>\n",
       "\t<li>'CodingAssesment.txt'</li>\n",
       "\t<li>'CodingAssesment.txt.bak'</li>\n",
       "\t<li>'CommonMutatedGenes_2019-05-23.csv'</li>\n",
       "\t<li>'FisherExactPairwise_2019-05-23.rda'</li>\n",
       "\t<li>'FisherExactPairwiseInMutationsSignificant_2019-05-23.csv'</li>\n",
       "\t<li>'FisherExactPairwiseInPatientsSignificant_2019-05-23.csv'</li>\n",
       "\t<li>'NonResponderGenesFreq.txt'</li>\n",
       "\t<li>'ProteinMutationFreq_2019-05-23.csv'</li>\n",
       "\t<li>'ProteinMutationFreq_2019-05-23.xlsx'</li>\n",
       "\t<li>'Q5.Answer.png.pdf'</li>\n",
       "\t<li>'R-codes-1.txt'</li>\n",
       "\t<li>'R-codes-2.txt'</li>\n",
       "\t<li>'R-codes-3.txt'</li>\n",
       "\t<li>'Report.txt'</li>\n",
       "\t<li>'Report3.html'</li>\n",
       "\t<li>'Report3.ipynb'</li>\n",
       "\t<li>'Report3.pdf'</li>\n",
       "\t<li>'ResponderGenesFreq.txt'</li>\n",
       "\t<li>'SignificantGeneDistribution_2019-05-23.csv'</li>\n",
       "\t<li>'SignificantGeneDistributionByPatients_2019-05-23.csv'</li>\n",
       "\t<li>'SignificantGenesAcrossTotalPatients_2019-05-23.csv'</li>\n",
       "\t<li>'TotalPatient1166MAF_2019-05-30.csv'</li>\n",
       "\t<li>'TotalPatientMAFwithoutSilentSpliceSite_2019-05-23.csv'</li>\n",
       "\t<li>'TotalPatientMAFwithoutSilentSpliceSite_2019-05-23.xlsx'</li>\n",
       "\t<li>'vanallen-assessment'</li>\n",
       "</ol>\n"
      ],
      "text/latex": [
       "\\begin{enumerate*}\n",
       "\\item '20161208.R.codes13.txt'\n",
       "\\item 'Coding assessment.docx'\n",
       "\\item 'CodingAssesment.txt'\n",
       "\\item 'CodingAssesment.txt.bak'\n",
       "\\item 'CommonMutatedGenes\\_2019-05-23.csv'\n",
       "\\item 'FisherExactPairwise\\_2019-05-23.rda'\n",
       "\\item 'FisherExactPairwiseInMutationsSignificant\\_2019-05-23.csv'\n",
       "\\item 'FisherExactPairwiseInPatientsSignificant\\_2019-05-23.csv'\n",
       "\\item 'NonResponderGenesFreq.txt'\n",
       "\\item 'ProteinMutationFreq\\_2019-05-23.csv'\n",
       "\\item 'ProteinMutationFreq\\_2019-05-23.xlsx'\n",
       "\\item 'Q5.Answer.png.pdf'\n",
       "\\item 'R-codes-1.txt'\n",
       "\\item 'R-codes-2.txt'\n",
       "\\item 'R-codes-3.txt'\n",
       "\\item 'Report.txt'\n",
       "\\item 'Report3.html'\n",
       "\\item 'Report3.ipynb'\n",
       "\\item 'Report3.pdf'\n",
       "\\item 'ResponderGenesFreq.txt'\n",
       "\\item 'SignificantGeneDistribution\\_2019-05-23.csv'\n",
       "\\item 'SignificantGeneDistributionByPatients\\_2019-05-23.csv'\n",
       "\\item 'SignificantGenesAcrossTotalPatients\\_2019-05-23.csv'\n",
       "\\item 'TotalPatient1166MAF\\_2019-05-30.csv'\n",
       "\\item 'TotalPatientMAFwithoutSilentSpliceSite\\_2019-05-23.csv'\n",
       "\\item 'TotalPatientMAFwithoutSilentSpliceSite\\_2019-05-23.xlsx'\n",
       "\\item 'vanallen-assessment'\n",
       "\\end{enumerate*}\n"
      ],
      "text/markdown": [
       "1. '20161208.R.codes13.txt'\n",
       "2. 'Coding assessment.docx'\n",
       "3. 'CodingAssesment.txt'\n",
       "4. 'CodingAssesment.txt.bak'\n",
       "5. 'CommonMutatedGenes_2019-05-23.csv'\n",
       "6. 'FisherExactPairwise_2019-05-23.rda'\n",
       "7. 'FisherExactPairwiseInMutationsSignificant_2019-05-23.csv'\n",
       "8. 'FisherExactPairwiseInPatientsSignificant_2019-05-23.csv'\n",
       "9. 'NonResponderGenesFreq.txt'\n",
       "10. 'ProteinMutationFreq_2019-05-23.csv'\n",
       "11. 'ProteinMutationFreq_2019-05-23.xlsx'\n",
       "12. 'Q5.Answer.png.pdf'\n",
       "13. 'R-codes-1.txt'\n",
       "14. 'R-codes-2.txt'\n",
       "15. 'R-codes-3.txt'\n",
       "16. 'Report.txt'\n",
       "17. 'Report3.html'\n",
       "18. 'Report3.ipynb'\n",
       "19. 'Report3.pdf'\n",
       "20. 'ResponderGenesFreq.txt'\n",
       "21. 'SignificantGeneDistribution_2019-05-23.csv'\n",
       "22. 'SignificantGeneDistributionByPatients_2019-05-23.csv'\n",
       "23. 'SignificantGenesAcrossTotalPatients_2019-05-23.csv'\n",
       "24. 'TotalPatient1166MAF_2019-05-30.csv'\n",
       "25. 'TotalPatientMAFwithoutSilentSpliceSite_2019-05-23.csv'\n",
       "26. 'TotalPatientMAFwithoutSilentSpliceSite_2019-05-23.xlsx'\n",
       "27. 'vanallen-assessment'\n",
       "\n",
       "\n"
      ],
      "text/plain": [
       " [1] \"20161208.R.codes13.txt\"                                  \n",
       " [2] \"Coding assessment.docx\"                                  \n",
       " [3] \"CodingAssesment.txt\"                                     \n",
       " [4] \"CodingAssesment.txt.bak\"                                 \n",
       " [5] \"CommonMutatedGenes_2019-05-23.csv\"                       \n",
       " [6] \"FisherExactPairwise_2019-05-23.rda\"                      \n",
       " [7] \"FisherExactPairwiseInMutationsSignificant_2019-05-23.csv\"\n",
       " [8] \"FisherExactPairwiseInPatientsSignificant_2019-05-23.csv\" \n",
       " [9] \"NonResponderGenesFreq.txt\"                               \n",
       "[10] \"ProteinMutationFreq_2019-05-23.csv\"                      \n",
       "[11] \"ProteinMutationFreq_2019-05-23.xlsx\"                     \n",
       "[12] \"Q5.Answer.png.pdf\"                                       \n",
       "[13] \"R-codes-1.txt\"                                           \n",
       "[14] \"R-codes-2.txt\"                                           \n",
       "[15] \"R-codes-3.txt\"                                           \n",
       "[16] \"Report.txt\"                                              \n",
       "[17] \"Report3.html\"                                            \n",
       "[18] \"Report3.ipynb\"                                           \n",
       "[19] \"Report3.pdf\"                                             \n",
       "[20] \"ResponderGenesFreq.txt\"                                  \n",
       "[21] \"SignificantGeneDistribution_2019-05-23.csv\"              \n",
       "[22] \"SignificantGeneDistributionByPatients_2019-05-23.csv\"    \n",
       "[23] \"SignificantGenesAcrossTotalPatients_2019-05-23.csv\"      \n",
       "[24] \"TotalPatient1166MAF_2019-05-30.csv\"                      \n",
       "[25] \"TotalPatientMAFwithoutSilentSpliceSite_2019-05-23.csv\"   \n",
       "[26] \"TotalPatientMAFwithoutSilentSpliceSite_2019-05-23.xlsx\"  \n",
       "[27] \"vanallen-assessment\"                                     "
      ]
     },
     "metadata": {},
     "output_type": "display_data"
    }
   ],
   "source": [
    "# To set up the working path and directory and to check the current working directory content\n",
    "\n",
    "require(reshape2)\n",
    "set.seed(12345)\n",
    "d <- Sys.Date()\n",
    "base.dir <- \"C:/Users/alextwc/Documents/JupyterNotebookFiles/R_Projects/VanallenAssessment/\";\n",
    "setwd(base.dir)\n",
    "getwd()\n",
    "dir()\n"
   ]
  },
  {
   "cell_type": "code",
   "execution_count": 105,
   "metadata": {},
   "outputs": [
    {
     "data": {
      "text/html": [
       "<ol class=list-inline>\n",
       "\t<li>'Patient-0'</li>\n",
       "\t<li>'Patient-1'</li>\n",
       "\t<li>'Patient-10'</li>\n",
       "\t<li>'Patient-11'</li>\n",
       "\t<li>'Patient-12'</li>\n",
       "\t<li>'Patient-13'</li>\n",
       "\t<li>'Patient-14'</li>\n",
       "\t<li>'Patient-15'</li>\n",
       "\t<li>'Patient-16'</li>\n",
       "\t<li>'Patient-17'</li>\n",
       "\t<li>'Patient-18'</li>\n",
       "\t<li>'Patient-19'</li>\n",
       "\t<li>'Patient-2'</li>\n",
       "\t<li>'Patient-20'</li>\n",
       "\t<li>'Patient-21'</li>\n",
       "\t<li>'Patient-22'</li>\n",
       "\t<li>'Patient-23'</li>\n",
       "\t<li>'Patient-24'</li>\n",
       "\t<li>'Patient-25'</li>\n",
       "\t<li>'Patient-26'</li>\n",
       "\t<li>'Patient-27'</li>\n",
       "\t<li>'Patient-28'</li>\n",
       "\t<li>'Patient-29'</li>\n",
       "\t<li>'Patient-3'</li>\n",
       "\t<li>'Patient-30'</li>\n",
       "\t<li>'Patient-31'</li>\n",
       "\t<li>'Patient-32'</li>\n",
       "\t<li>'Patient-33'</li>\n",
       "\t<li>'Patient-34'</li>\n",
       "\t<li>'Patient-35'</li>\n",
       "\t<li>'Patient-36'</li>\n",
       "\t<li>'Patient-37'</li>\n",
       "\t<li>'Patient-38'</li>\n",
       "\t<li>'Patient-39'</li>\n",
       "\t<li>'Patient-4'</li>\n",
       "\t<li>'Patient-40'</li>\n",
       "\t<li>'Patient-41'</li>\n",
       "\t<li>'Patient-42'</li>\n",
       "\t<li>'Patient-43'</li>\n",
       "\t<li>'Patient-44'</li>\n",
       "\t<li>'Patient-45'</li>\n",
       "\t<li>'Patient-46'</li>\n",
       "\t<li>'Patient-47'</li>\n",
       "\t<li>'Patient-48'</li>\n",
       "\t<li>'Patient-49'</li>\n",
       "\t<li>'Patient-5'</li>\n",
       "\t<li>'Patient-6'</li>\n",
       "\t<li>'Patient-7'</li>\n",
       "\t<li>'Patient-8'</li>\n",
       "\t<li>'Patient-9'</li>\n",
       "</ol>\n"
      ],
      "text/latex": [
       "\\begin{enumerate*}\n",
       "\\item 'Patient-0'\n",
       "\\item 'Patient-1'\n",
       "\\item 'Patient-10'\n",
       "\\item 'Patient-11'\n",
       "\\item 'Patient-12'\n",
       "\\item 'Patient-13'\n",
       "\\item 'Patient-14'\n",
       "\\item 'Patient-15'\n",
       "\\item 'Patient-16'\n",
       "\\item 'Patient-17'\n",
       "\\item 'Patient-18'\n",
       "\\item 'Patient-19'\n",
       "\\item 'Patient-2'\n",
       "\\item 'Patient-20'\n",
       "\\item 'Patient-21'\n",
       "\\item 'Patient-22'\n",
       "\\item 'Patient-23'\n",
       "\\item 'Patient-24'\n",
       "\\item 'Patient-25'\n",
       "\\item 'Patient-26'\n",
       "\\item 'Patient-27'\n",
       "\\item 'Patient-28'\n",
       "\\item 'Patient-29'\n",
       "\\item 'Patient-3'\n",
       "\\item 'Patient-30'\n",
       "\\item 'Patient-31'\n",
       "\\item 'Patient-32'\n",
       "\\item 'Patient-33'\n",
       "\\item 'Patient-34'\n",
       "\\item 'Patient-35'\n",
       "\\item 'Patient-36'\n",
       "\\item 'Patient-37'\n",
       "\\item 'Patient-38'\n",
       "\\item 'Patient-39'\n",
       "\\item 'Patient-4'\n",
       "\\item 'Patient-40'\n",
       "\\item 'Patient-41'\n",
       "\\item 'Patient-42'\n",
       "\\item 'Patient-43'\n",
       "\\item 'Patient-44'\n",
       "\\item 'Patient-45'\n",
       "\\item 'Patient-46'\n",
       "\\item 'Patient-47'\n",
       "\\item 'Patient-48'\n",
       "\\item 'Patient-49'\n",
       "\\item 'Patient-5'\n",
       "\\item 'Patient-6'\n",
       "\\item 'Patient-7'\n",
       "\\item 'Patient-8'\n",
       "\\item 'Patient-9'\n",
       "\\end{enumerate*}\n"
      ],
      "text/markdown": [
       "1. 'Patient-0'\n",
       "2. 'Patient-1'\n",
       "3. 'Patient-10'\n",
       "4. 'Patient-11'\n",
       "5. 'Patient-12'\n",
       "6. 'Patient-13'\n",
       "7. 'Patient-14'\n",
       "8. 'Patient-15'\n",
       "9. 'Patient-16'\n",
       "10. 'Patient-17'\n",
       "11. 'Patient-18'\n",
       "12. 'Patient-19'\n",
       "13. 'Patient-2'\n",
       "14. 'Patient-20'\n",
       "15. 'Patient-21'\n",
       "16. 'Patient-22'\n",
       "17. 'Patient-23'\n",
       "18. 'Patient-24'\n",
       "19. 'Patient-25'\n",
       "20. 'Patient-26'\n",
       "21. 'Patient-27'\n",
       "22. 'Patient-28'\n",
       "23. 'Patient-29'\n",
       "24. 'Patient-3'\n",
       "25. 'Patient-30'\n",
       "26. 'Patient-31'\n",
       "27. 'Patient-32'\n",
       "28. 'Patient-33'\n",
       "29. 'Patient-34'\n",
       "30. 'Patient-35'\n",
       "31. 'Patient-36'\n",
       "32. 'Patient-37'\n",
       "33. 'Patient-38'\n",
       "34. 'Patient-39'\n",
       "35. 'Patient-4'\n",
       "36. 'Patient-40'\n",
       "37. 'Patient-41'\n",
       "38. 'Patient-42'\n",
       "39. 'Patient-43'\n",
       "40. 'Patient-44'\n",
       "41. 'Patient-45'\n",
       "42. 'Patient-46'\n",
       "43. 'Patient-47'\n",
       "44. 'Patient-48'\n",
       "45. 'Patient-49'\n",
       "46. 'Patient-5'\n",
       "47. 'Patient-6'\n",
       "48. 'Patient-7'\n",
       "49. 'Patient-8'\n",
       "50. 'Patient-9'\n",
       "\n",
       "\n"
      ],
      "text/plain": [
       " [1] \"Patient-0\"  \"Patient-1\"  \"Patient-10\" \"Patient-11\" \"Patient-12\"\n",
       " [6] \"Patient-13\" \"Patient-14\" \"Patient-15\" \"Patient-16\" \"Patient-17\"\n",
       "[11] \"Patient-18\" \"Patient-19\" \"Patient-2\"  \"Patient-20\" \"Patient-21\"\n",
       "[16] \"Patient-22\" \"Patient-23\" \"Patient-24\" \"Patient-25\" \"Patient-26\"\n",
       "[21] \"Patient-27\" \"Patient-28\" \"Patient-29\" \"Patient-3\"  \"Patient-30\"\n",
       "[26] \"Patient-31\" \"Patient-32\" \"Patient-33\" \"Patient-34\" \"Patient-35\"\n",
       "[31] \"Patient-36\" \"Patient-37\" \"Patient-38\" \"Patient-39\" \"Patient-4\" \n",
       "[36] \"Patient-40\" \"Patient-41\" \"Patient-42\" \"Patient-43\" \"Patient-44\"\n",
       "[41] \"Patient-45\" \"Patient-46\" \"Patient-47\" \"Patient-48\" \"Patient-49\"\n",
       "[46] \"Patient-5\"  \"Patient-6\"  \"Patient-7\"  \"Patient-8\"  \"Patient-9\" "
      ]
     },
     "metadata": {},
     "output_type": "display_data"
    },
    {
     "data": {
      "text/html": [
       "<ol class=list-inline>\n",
       "\t<li>3756</li>\n",
       "\t<li>21</li>\n",
       "</ol>\n"
      ],
      "text/latex": [
       "\\begin{enumerate*}\n",
       "\\item 3756\n",
       "\\item 21\n",
       "\\end{enumerate*}\n"
      ],
      "text/markdown": [
       "1. 3756\n",
       "2. 21\n",
       "\n",
       "\n"
      ],
      "text/plain": [
       "[1] 3756   21"
      ]
     },
     "metadata": {},
     "output_type": "display_data"
    },
    {
     "data": {
      "text/html": [
       "<table>\n",
       "<thead><tr><th></th><th scope=col>Protein_Change</th><th scope=col>Tumor_Sample_Barcode</th><th scope=col>Hugo_Symbol</th><th scope=col>Chromosome</th><th scope=col>Start_position</th><th scope=col>End_position</th><th scope=col>Variant_Classification</th><th scope=col>Variant_Type</th><th scope=col>Reference_Allele</th><th scope=col>Tumor_Seq_Allele1</th><th scope=col>...</th><th scope=col>Matched_Norm_Sample_Barcode.x</th><th scope=col>t_alt_count</th><th scope=col>t_ref_count</th><th scope=col>Patient_ID</th><th scope=col>Matched_Norm_Sample_Barcode.y</th><th scope=col>Response</th><th scope=col>Silent_mutations_per_Mb</th><th scope=col>Nonsynonymous_mutations_per_Mb</th><th scope=col>Mutations_per_Mb</th><th scope=col>ProteinMutationFreq</th></tr></thead>\n",
       "<tbody>\n",
       "\t<tr><th scope=row>5</th><td>AA               </td><td>Patient-37-Tumor </td><td>CUBN             </td><td>10               </td><td> 17087006        </td><td> 17087006        </td><td>Splice_Site      </td><td>SNP              </td><td>A                </td><td>A                </td><td>...              </td><td>Patient-37-Normal</td><td> 8               </td><td> 90              </td><td>Patient-37       </td><td>Patient-37-Normal</td><td>Responder        </td><td>9.10             </td><td>19.60            </td><td>28.700           </td><td> 5               </td></tr>\n",
       "\t<tr><th scope=row>9</th><td>AD               </td><td>Patient-20-Tumor </td><td>LAMA1            </td><td>18               </td><td>  7002287        </td><td>  7002287        </td><td>Missense_Mutation</td><td>SNP              </td><td>G                </td><td>G                </td><td>...              </td><td>Patient-20-Normal</td><td> 9               </td><td>142              </td><td>Patient-20       </td><td>Patient-20-Normal</td><td>Non-Responder    </td><td>0.64             </td><td> 1.83            </td><td> 2.471           </td><td>14               </td></tr>\n",
       "\t<tr><th scope=row>10</th><td>AD               </td><td>Patient-45-Tumor </td><td>TP53             </td><td>17               </td><td>  7578448        </td><td>  7578448        </td><td>Missense_Mutation</td><td>SNP              </td><td>G                </td><td>G                </td><td>...              </td><td>Patient-45-Normal</td><td>56               </td><td> 48              </td><td>Patient-45       </td><td>Patient-45-Normal</td><td>Non-Responder    </td><td>1.61             </td><td> 4.19            </td><td> 5.800           </td><td>14               </td></tr>\n",
       "\t<tr><th scope=row>12</th><td>AD               </td><td>Patient-22-Tumor </td><td>FLNA             </td><td>X                </td><td>153581783        </td><td>153581783        </td><td>Missense_Mutation</td><td>SNP              </td><td>G                </td><td>G                </td><td>...              </td><td>Patient-22-Normal</td><td> 5               </td><td>101              </td><td>Patient-22       </td><td>Patient-22-Normal</td><td>Non-Responder    </td><td>2.99             </td><td> 7.44            </td><td>10.430           </td><td>14               </td></tr>\n",
       "\t<tr><th scope=row>13</th><td>AD               </td><td>Patient-37-Tumor </td><td>MYCBP2           </td><td>13               </td><td> 77671756        </td><td> 77671756        </td><td>Missense_Mutation</td><td>SNP              </td><td>G                </td><td>G                </td><td>...              </td><td>Patient-37-Normal</td><td> 8               </td><td> 20              </td><td>Patient-37       </td><td>Patient-37-Normal</td><td>Responder        </td><td>9.10             </td><td>19.60            </td><td>28.700           </td><td>14               </td></tr>\n",
       "\t<tr><th scope=row>22</th><td>AE               </td><td>Patient-27-Tumor </td><td>NKTR             </td><td>3                </td><td> 42678809        </td><td> 42678809        </td><td>Missense_Mutation</td><td>SNP              </td><td>C                </td><td>C                </td><td>...              </td><td>Patient-27-Normal</td><td>77               </td><td>140              </td><td>Patient-27       </td><td>Patient-27-Normal</td><td>Responder        </td><td>3.73             </td><td> 9.39            </td><td>13.120           </td><td>12               </td></tr>\n",
       "</tbody>\n",
       "</table>\n"
      ],
      "text/latex": [
       "\\begin{tabular}{r|lllllllllllllllllllll}\n",
       "  & Protein\\_Change & Tumor\\_Sample\\_Barcode & Hugo\\_Symbol & Chromosome & Start\\_position & End\\_position & Variant\\_Classification & Variant\\_Type & Reference\\_Allele & Tumor\\_Seq\\_Allele1 & ... & Matched\\_Norm\\_Sample\\_Barcode.x & t\\_alt\\_count & t\\_ref\\_count & Patient\\_ID & Matched\\_Norm\\_Sample\\_Barcode.y & Response & Silent\\_mutations\\_per\\_Mb & Nonsynonymous\\_mutations\\_per\\_Mb & Mutations\\_per\\_Mb & ProteinMutationFreq\\\\\n",
       "\\hline\n",
       "\t5 & AA                  & Patient-37-Tumor    & CUBN                & 10                  &  17087006           &  17087006           & Splice\\_Site       & SNP                 & A                   & A                   & ...                 & Patient-37-Normal   &  8                  &  90                 & Patient-37          & Patient-37-Normal   & Responder           & 9.10                & 19.60               & 28.700              &  5                 \\\\\n",
       "\t9 & AD                  & Patient-20-Tumor    & LAMA1               & 18                  &   7002287           &   7002287           & Missense\\_Mutation & SNP                 & G                   & G                   & ...                 & Patient-20-Normal   &  9                  & 142                 & Patient-20          & Patient-20-Normal   & Non-Responder       & 0.64                &  1.83               &  2.471              & 14                 \\\\\n",
       "\t10 & AD                  & Patient-45-Tumor    & TP53                & 17                  &   7578448           &   7578448           & Missense\\_Mutation & SNP                 & G                   & G                   & ...                 & Patient-45-Normal   & 56                  &  48                 & Patient-45          & Patient-45-Normal   & Non-Responder       & 1.61                &  4.19               &  5.800              & 14                 \\\\\n",
       "\t12 & AD                  & Patient-22-Tumor    & FLNA                & X                   & 153581783           & 153581783           & Missense\\_Mutation & SNP                 & G                   & G                   & ...                 & Patient-22-Normal   &  5                  & 101                 & Patient-22          & Patient-22-Normal   & Non-Responder       & 2.99                &  7.44               & 10.430              & 14                 \\\\\n",
       "\t13 & AD                  & Patient-37-Tumor    & MYCBP2              & 13                  &  77671756           &  77671756           & Missense\\_Mutation & SNP                 & G                   & G                   & ...                 & Patient-37-Normal   &  8                  &  20                 & Patient-37          & Patient-37-Normal   & Responder           & 9.10                & 19.60               & 28.700              & 14                 \\\\\n",
       "\t22 & AE                  & Patient-27-Tumor    & NKTR                & 3                   &  42678809           &  42678809           & Missense\\_Mutation & SNP                 & C                   & C                   & ...                 & Patient-27-Normal   & 77                  & 140                 & Patient-27          & Patient-27-Normal   & Responder           & 3.73                &  9.39               & 13.120              & 12                 \\\\\n",
       "\\end{tabular}\n"
      ],
      "text/markdown": [
       "\n",
       "| <!--/--> | Protein_Change | Tumor_Sample_Barcode | Hugo_Symbol | Chromosome | Start_position | End_position | Variant_Classification | Variant_Type | Reference_Allele | Tumor_Seq_Allele1 | ... | Matched_Norm_Sample_Barcode.x | t_alt_count | t_ref_count | Patient_ID | Matched_Norm_Sample_Barcode.y | Response | Silent_mutations_per_Mb | Nonsynonymous_mutations_per_Mb | Mutations_per_Mb | ProteinMutationFreq | \n",
       "|---|---|---|---|---|---|\n",
       "| 5 | AA                | Patient-37-Tumor  | CUBN              | 10                |  17087006         |  17087006         | Splice_Site       | SNP               | A                 | A                 | ...               | Patient-37-Normal |  8                |  90               | Patient-37        | Patient-37-Normal | Responder         | 9.10              | 19.60             | 28.700            |  5                | \n",
       "| 9 | AD                | Patient-20-Tumor  | LAMA1             | 18                |   7002287         |   7002287         | Missense_Mutation | SNP               | G                 | G                 | ...               | Patient-20-Normal |  9                | 142               | Patient-20        | Patient-20-Normal | Non-Responder     | 0.64              |  1.83             |  2.471            | 14                | \n",
       "| 10 | AD                | Patient-45-Tumor  | TP53              | 17                |   7578448         |   7578448         | Missense_Mutation | SNP               | G                 | G                 | ...               | Patient-45-Normal | 56                |  48               | Patient-45        | Patient-45-Normal | Non-Responder     | 1.61              |  4.19             |  5.800            | 14                | \n",
       "| 12 | AD                | Patient-22-Tumor  | FLNA              | X                 | 153581783         | 153581783         | Missense_Mutation | SNP               | G                 | G                 | ...               | Patient-22-Normal |  5                | 101               | Patient-22        | Patient-22-Normal | Non-Responder     | 2.99              |  7.44             | 10.430            | 14                | \n",
       "| 13 | AD                | Patient-37-Tumor  | MYCBP2            | 13                |  77671756         |  77671756         | Missense_Mutation | SNP               | G                 | G                 | ...               | Patient-37-Normal |  8                |  20               | Patient-37        | Patient-37-Normal | Responder         | 9.10              | 19.60             | 28.700            | 14                | \n",
       "| 22 | AE                | Patient-27-Tumor  | NKTR              | 3                 |  42678809         |  42678809         | Missense_Mutation | SNP               | C                 | C                 | ...               | Patient-27-Normal | 77                | 140               | Patient-27        | Patient-27-Normal | Responder         | 3.73              |  9.39             | 13.120            | 12                | \n",
       "\n",
       "\n"
      ],
      "text/plain": [
       "   Protein_Change Tumor_Sample_Barcode Hugo_Symbol Chromosome Start_position\n",
       "5  AA             Patient-37-Tumor     CUBN        10          17087006     \n",
       "9  AD             Patient-20-Tumor     LAMA1       18           7002287     \n",
       "10 AD             Patient-45-Tumor     TP53        17           7578448     \n",
       "12 AD             Patient-22-Tumor     FLNA        X          153581783     \n",
       "13 AD             Patient-37-Tumor     MYCBP2      13          77671756     \n",
       "22 AE             Patient-27-Tumor     NKTR        3           42678809     \n",
       "   End_position Variant_Classification Variant_Type Reference_Allele\n",
       "5   17087006    Splice_Site            SNP          A               \n",
       "9    7002287    Missense_Mutation      SNP          G               \n",
       "10   7578448    Missense_Mutation      SNP          G               \n",
       "12 153581783    Missense_Mutation      SNP          G               \n",
       "13  77671756    Missense_Mutation      SNP          G               \n",
       "22  42678809    Missense_Mutation      SNP          C               \n",
       "   Tumor_Seq_Allele1 ... Matched_Norm_Sample_Barcode.x t_alt_count t_ref_count\n",
       "5  A                 ... Patient-37-Normal              8           90        \n",
       "9  G                 ... Patient-20-Normal              9          142        \n",
       "10 G                 ... Patient-45-Normal             56           48        \n",
       "12 G                 ... Patient-22-Normal              5          101        \n",
       "13 G                 ... Patient-37-Normal              8           20        \n",
       "22 C                 ... Patient-27-Normal             77          140        \n",
       "   Patient_ID Matched_Norm_Sample_Barcode.y Response     \n",
       "5  Patient-37 Patient-37-Normal             Responder    \n",
       "9  Patient-20 Patient-20-Normal             Non-Responder\n",
       "10 Patient-45 Patient-45-Normal             Non-Responder\n",
       "12 Patient-22 Patient-22-Normal             Non-Responder\n",
       "13 Patient-37 Patient-37-Normal             Responder    \n",
       "22 Patient-27 Patient-27-Normal             Responder    \n",
       "   Silent_mutations_per_Mb Nonsynonymous_mutations_per_Mb Mutations_per_Mb\n",
       "5  9.10                    19.60                          28.700          \n",
       "9  0.64                     1.83                           2.471          \n",
       "10 1.61                     4.19                           5.800          \n",
       "12 2.99                     7.44                          10.430          \n",
       "13 9.10                    19.60                          28.700          \n",
       "22 3.73                     9.39                          13.120          \n",
       "   ProteinMutationFreq\n",
       "5   5                 \n",
       "9  14                 \n",
       "10 14                 \n",
       "12 14                 \n",
       "13 14                 \n",
       "22 12                 "
      ]
     },
     "metadata": {},
     "output_type": "display_data"
    }
   ],
   "source": [
    "# The aobve codes running proved that we have set the correct working directory and path\n",
    "# To read the input files\n",
    "\n",
    "CommonMutated1166genes <- read.csv(\"./CommonMutatedGenes_2019-05-23.csv\", stringsAsFactors = FALSE, header = TRUE,  check.names = FALSE)\n",
    "TotalPatientMAFwithoutSilentSpliceSite <- read.csv(\"./TotalPatientMAFwithoutSilentSpliceSite_2019-05-23.csv\", stringsAsFactors = FALSE, header = TRUE,  check.names = FALSE)\n",
    "TotalPatient1166MAF <- subset(TotalPatientMAFwithoutSilentSpliceSite, (TotalPatientMAFwithoutSilentSpliceSite$Hugo_Symbol %in% CommonMutated1166genes$Hugo_Symbol))\n",
    "levels(factor(TotalPatient1166MAF$Patient_ID))\n",
    "dim(TotalPatient1166MAF)\n",
    "head(TotalPatient1166MAF)\n",
    "\n",
    "# The following running result indicated the 1166 common shared genes with 3756 mutation records "
   ]
  },
  {
   "cell_type": "code",
   "execution_count": 106,
   "metadata": {},
   "outputs": [
    {
     "data": {
      "text/html": [
       "<ol class=list-inline>\n",
       "\t<li>3756</li>\n",
       "\t<li>2</li>\n",
       "</ol>\n"
      ],
      "text/latex": [
       "\\begin{enumerate*}\n",
       "\\item 3756\n",
       "\\item 2\n",
       "\\end{enumerate*}\n"
      ],
      "text/markdown": [
       "1. 3756\n",
       "2. 2\n",
       "\n",
       "\n"
      ],
      "text/plain": [
       "[1] 3756    2"
      ]
     },
     "metadata": {},
     "output_type": "display_data"
    },
    {
     "data": {
      "text/html": [
       "<table>\n",
       "<thead><tr><th></th><th scope=col>Hugo_Symbol</th><th scope=col>Patient_ID</th></tr></thead>\n",
       "<tbody>\n",
       "\t<tr><th scope=row>9082</th><td>ABCA13    </td><td>Patient-9 </td></tr>\n",
       "\t<tr><th scope=row>9621</th><td>ABCA13    </td><td>Patient-30</td></tr>\n",
       "\t<tr><th scope=row>10805</th><td>ABCA13    </td><td>Patient-11</td></tr>\n",
       "\t<tr><th scope=row>10882</th><td>ABCA13    </td><td>Patient-37</td></tr>\n",
       "\t<tr><th scope=row>2831</th><td>ABCA7     </td><td>Patient-17</td></tr>\n",
       "\t<tr><th scope=row>3492</th><td>ABCA7     </td><td>Patient-26</td></tr>\n",
       "</tbody>\n",
       "</table>\n"
      ],
      "text/latex": [
       "\\begin{tabular}{r|ll}\n",
       "  & Hugo\\_Symbol & Patient\\_ID\\\\\n",
       "\\hline\n",
       "\t9082 & ABCA13     & Patient-9 \\\\\n",
       "\t9621 & ABCA13     & Patient-30\\\\\n",
       "\t10805 & ABCA13     & Patient-11\\\\\n",
       "\t10882 & ABCA13     & Patient-37\\\\\n",
       "\t2831 & ABCA7      & Patient-17\\\\\n",
       "\t3492 & ABCA7      & Patient-26\\\\\n",
       "\\end{tabular}\n"
      ],
      "text/markdown": [
       "\n",
       "| <!--/--> | Hugo_Symbol | Patient_ID | \n",
       "|---|---|---|---|---|---|\n",
       "| 9082 | ABCA13     | Patient-9  | \n",
       "| 9621 | ABCA13     | Patient-30 | \n",
       "| 10805 | ABCA13     | Patient-11 | \n",
       "| 10882 | ABCA13     | Patient-37 | \n",
       "| 2831 | ABCA7      | Patient-17 | \n",
       "| 3492 | ABCA7      | Patient-26 | \n",
       "\n",
       "\n"
      ],
      "text/plain": [
       "      Hugo_Symbol Patient_ID\n",
       "9082  ABCA13      Patient-9 \n",
       "9621  ABCA13      Patient-30\n",
       "10805 ABCA13      Patient-11\n",
       "10882 ABCA13      Patient-37\n",
       "2831  ABCA7       Patient-17\n",
       "3492  ABCA7       Patient-26"
      ]
     },
     "metadata": {},
     "output_type": "display_data"
    }
   ],
   "source": [
    "# To delete those unwanted columns and prepare the data transformation\n",
    "# write.csv(TotalPatient1166MAF, file=paste(\"./TotalPatient1166MAF_\", d, \".csv\", sep=\"\"), row.names=FALSE)\n",
    "# TotalPatient1166MAF$Tumor_Sample_Barcode <- NULL\n",
    "# TotalPatient1166MAF$Variant_Type <- NULL\n",
    "# TotalPatient1166MAF$Matched_Norm_Sample_Barcode.x <- NULL\n",
    "# TotalPatient1166MAF$Matched_Norm_Sample_Barcode.y <- NULL\n",
    "\n",
    "TotalPatient1166MAF <- TotalPatient1166MAF[order(TotalPatient1166MAF$Hugo_Symbol), ]\n",
    "TotalPatient1166MAF <- TotalPatient1166MAF[, -c(1,2,4:14,16,17,18:21)]\n",
    "dim(TotalPatient1166MAF)\n",
    "head(TotalPatient1166MAF)\n",
    "\n",
    "# The folloiwng running result indicated that we only preserved 2 columns at this moment"
   ]
  },
  {
   "cell_type": "code",
   "execution_count": 107,
   "metadata": {},
   "outputs": [
    {
     "data": {
      "text/html": [
       "<ol class=list-inline>\n",
       "\t<li>1166</li>\n",
       "\t<li>51</li>\n",
       "</ol>\n"
      ],
      "text/latex": [
       "\\begin{enumerate*}\n",
       "\\item 1166\n",
       "\\item 51\n",
       "\\end{enumerate*}\n"
      ],
      "text/markdown": [
       "1. 1166\n",
       "2. 51\n",
       "\n",
       "\n"
      ],
      "text/plain": [
       "[1] 1166   51"
      ]
     },
     "metadata": {},
     "output_type": "display_data"
    },
    {
     "data": {
      "text/html": [
       "<table>\n",
       "<thead><tr><th scope=col>Hugo_Symbol</th><th scope=col>Patient-0</th><th scope=col>Patient-1</th><th scope=col>Patient-10</th><th scope=col>Patient-11</th><th scope=col>Patient-12</th><th scope=col>Patient-13</th><th scope=col>Patient-14</th><th scope=col>Patient-15</th><th scope=col>Patient-16</th><th scope=col>...</th><th scope=col>Patient-45</th><th scope=col>Patient-46</th><th scope=col>Patient-47</th><th scope=col>Patient-48</th><th scope=col>Patient-49</th><th scope=col>Patient-5</th><th scope=col>Patient-6</th><th scope=col>Patient-7</th><th scope=col>Patient-8</th><th scope=col>Patient-9</th></tr></thead>\n",
       "<tbody>\n",
       "\t<tr><td>ABCA13</td><td>0     </td><td>0     </td><td>0     </td><td>1     </td><td>0     </td><td>0     </td><td>0     </td><td>0     </td><td>0     </td><td>...   </td><td>0     </td><td>0     </td><td>0     </td><td>0     </td><td>0     </td><td>0     </td><td>0     </td><td>0     </td><td>0     </td><td>1     </td></tr>\n",
       "\t<tr><td>ABCA7 </td><td>0     </td><td>0     </td><td>0     </td><td>0     </td><td>0     </td><td>0     </td><td>0     </td><td>0     </td><td>0     </td><td>...   </td><td>0     </td><td>0     </td><td>0     </td><td>0     </td><td>0     </td><td>0     </td><td>0     </td><td>0     </td><td>0     </td><td>0     </td></tr>\n",
       "\t<tr><td>ABCA9 </td><td>0     </td><td>0     </td><td>0     </td><td>0     </td><td>0     </td><td>0     </td><td>0     </td><td>0     </td><td>0     </td><td>...   </td><td>0     </td><td>0     </td><td>0     </td><td>0     </td><td>0     </td><td>0     </td><td>0     </td><td>0     </td><td>0     </td><td>0     </td></tr>\n",
       "\t<tr><td>ABCC12</td><td>0     </td><td>0     </td><td>1     </td><td>0     </td><td>0     </td><td>0     </td><td>0     </td><td>0     </td><td>0     </td><td>...   </td><td>0     </td><td>0     </td><td>0     </td><td>0     </td><td>0     </td><td>0     </td><td>0     </td><td>1     </td><td>0     </td><td>0     </td></tr>\n",
       "\t<tr><td>ABCC5 </td><td>0     </td><td>0     </td><td>0     </td><td>0     </td><td>0     </td><td>0     </td><td>0     </td><td>0     </td><td>0     </td><td>...   </td><td>0     </td><td>1     </td><td>0     </td><td>0     </td><td>0     </td><td>0     </td><td>0     </td><td>1     </td><td>0     </td><td>0     </td></tr>\n",
       "\t<tr><td>ABCC8 </td><td>1     </td><td>0     </td><td>0     </td><td>0     </td><td>0     </td><td>0     </td><td>0     </td><td>0     </td><td>0     </td><td>...   </td><td>0     </td><td>0     </td><td>0     </td><td>0     </td><td>0     </td><td>1     </td><td>0     </td><td>0     </td><td>0     </td><td>0     </td></tr>\n",
       "</tbody>\n",
       "</table>\n"
      ],
      "text/latex": [
       "\\begin{tabular}{r|lllllllllllllllllllllllllllllllllllllllllllllllllll}\n",
       " Hugo\\_Symbol & Patient-0 & Patient-1 & Patient-10 & Patient-11 & Patient-12 & Patient-13 & Patient-14 & Patient-15 & Patient-16 & ... & Patient-45 & Patient-46 & Patient-47 & Patient-48 & Patient-49 & Patient-5 & Patient-6 & Patient-7 & Patient-8 & Patient-9\\\\\n",
       "\\hline\n",
       "\t ABCA13 & 0      & 0      & 0      & 1      & 0      & 0      & 0      & 0      & 0      & ...    & 0      & 0      & 0      & 0      & 0      & 0      & 0      & 0      & 0      & 1     \\\\\n",
       "\t ABCA7  & 0      & 0      & 0      & 0      & 0      & 0      & 0      & 0      & 0      & ...    & 0      & 0      & 0      & 0      & 0      & 0      & 0      & 0      & 0      & 0     \\\\\n",
       "\t ABCA9  & 0      & 0      & 0      & 0      & 0      & 0      & 0      & 0      & 0      & ...    & 0      & 0      & 0      & 0      & 0      & 0      & 0      & 0      & 0      & 0     \\\\\n",
       "\t ABCC12 & 0      & 0      & 1      & 0      & 0      & 0      & 0      & 0      & 0      & ...    & 0      & 0      & 0      & 0      & 0      & 0      & 0      & 1      & 0      & 0     \\\\\n",
       "\t ABCC5  & 0      & 0      & 0      & 0      & 0      & 0      & 0      & 0      & 0      & ...    & 0      & 1      & 0      & 0      & 0      & 0      & 0      & 1      & 0      & 0     \\\\\n",
       "\t ABCC8  & 1      & 0      & 0      & 0      & 0      & 0      & 0      & 0      & 0      & ...    & 0      & 0      & 0      & 0      & 0      & 1      & 0      & 0      & 0      & 0     \\\\\n",
       "\\end{tabular}\n"
      ],
      "text/markdown": [
       "\n",
       "Hugo_Symbol | Patient-0 | Patient-1 | Patient-10 | Patient-11 | Patient-12 | Patient-13 | Patient-14 | Patient-15 | Patient-16 | ... | Patient-45 | Patient-46 | Patient-47 | Patient-48 | Patient-49 | Patient-5 | Patient-6 | Patient-7 | Patient-8 | Patient-9 | \n",
       "|---|---|---|---|---|---|\n",
       "| ABCA13 | 0      | 0      | 0      | 1      | 0      | 0      | 0      | 0      | 0      | ...    | 0      | 0      | 0      | 0      | 0      | 0      | 0      | 0      | 0      | 1      | \n",
       "| ABCA7  | 0      | 0      | 0      | 0      | 0      | 0      | 0      | 0      | 0      | ...    | 0      | 0      | 0      | 0      | 0      | 0      | 0      | 0      | 0      | 0      | \n",
       "| ABCA9  | 0      | 0      | 0      | 0      | 0      | 0      | 0      | 0      | 0      | ...    | 0      | 0      | 0      | 0      | 0      | 0      | 0      | 0      | 0      | 0      | \n",
       "| ABCC12 | 0      | 0      | 1      | 0      | 0      | 0      | 0      | 0      | 0      | ...    | 0      | 0      | 0      | 0      | 0      | 0      | 0      | 1      | 0      | 0      | \n",
       "| ABCC5  | 0      | 0      | 0      | 0      | 0      | 0      | 0      | 0      | 0      | ...    | 0      | 1      | 0      | 0      | 0      | 0      | 0      | 1      | 0      | 0      | \n",
       "| ABCC8  | 1      | 0      | 0      | 0      | 0      | 0      | 0      | 0      | 0      | ...    | 0      | 0      | 0      | 0      | 0      | 1      | 0      | 0      | 0      | 0      | \n",
       "\n",
       "\n"
      ],
      "text/plain": [
       "  Hugo_Symbol Patient-0 Patient-1 Patient-10 Patient-11 Patient-12 Patient-13\n",
       "1 ABCA13      0         0         0          1          0          0         \n",
       "2 ABCA7       0         0         0          0          0          0         \n",
       "3 ABCA9       0         0         0          0          0          0         \n",
       "4 ABCC12      0         0         1          0          0          0         \n",
       "5 ABCC5       0         0         0          0          0          0         \n",
       "6 ABCC8       1         0         0          0          0          0         \n",
       "  Patient-14 Patient-15 Patient-16 ... Patient-45 Patient-46 Patient-47\n",
       "1 0          0          0          ... 0          0          0         \n",
       "2 0          0          0          ... 0          0          0         \n",
       "3 0          0          0          ... 0          0          0         \n",
       "4 0          0          0          ... 0          0          0         \n",
       "5 0          0          0          ... 0          1          0         \n",
       "6 0          0          0          ... 0          0          0         \n",
       "  Patient-48 Patient-49 Patient-5 Patient-6 Patient-7 Patient-8 Patient-9\n",
       "1 0          0          0         0         0         0         1        \n",
       "2 0          0          0         0         0         0         0        \n",
       "3 0          0          0         0         0         0         0        \n",
       "4 0          0          0         0         1         0         0        \n",
       "5 0          0          0         0         1         0         0        \n",
       "6 0          0          1         0         0         0         0        "
      ]
     },
     "metadata": {},
     "output_type": "display_data"
    },
    {
     "data": {
      "text/html": [
       "<ol class=list-inline>\n",
       "\t<li>'Hugo_Symbol'</li>\n",
       "\t<li>'Patient-0'</li>\n",
       "\t<li>'Patient-1'</li>\n",
       "\t<li>'Patient-10'</li>\n",
       "\t<li>'Patient-11'</li>\n",
       "\t<li>'Patient-12'</li>\n",
       "\t<li>'Patient-13'</li>\n",
       "\t<li>'Patient-14'</li>\n",
       "\t<li>'Patient-15'</li>\n",
       "\t<li>'Patient-16'</li>\n",
       "\t<li>'Patient-17'</li>\n",
       "\t<li>'Patient-18'</li>\n",
       "\t<li>'Patient-19'</li>\n",
       "\t<li>'Patient-2'</li>\n",
       "\t<li>'Patient-20'</li>\n",
       "\t<li>'Patient-21'</li>\n",
       "\t<li>'Patient-22'</li>\n",
       "\t<li>'Patient-23'</li>\n",
       "\t<li>'Patient-24'</li>\n",
       "\t<li>'Patient-25'</li>\n",
       "\t<li>'Patient-26'</li>\n",
       "\t<li>'Patient-27'</li>\n",
       "\t<li>'Patient-28'</li>\n",
       "\t<li>'Patient-29'</li>\n",
       "\t<li>'Patient-3'</li>\n",
       "\t<li>'Patient-30'</li>\n",
       "\t<li>'Patient-31'</li>\n",
       "\t<li>'Patient-32'</li>\n",
       "\t<li>'Patient-33'</li>\n",
       "\t<li>'Patient-34'</li>\n",
       "\t<li>'Patient-35'</li>\n",
       "\t<li>'Patient-36'</li>\n",
       "\t<li>'Patient-37'</li>\n",
       "\t<li>'Patient-38'</li>\n",
       "\t<li>'Patient-39'</li>\n",
       "\t<li>'Patient-4'</li>\n",
       "\t<li>'Patient-40'</li>\n",
       "\t<li>'Patient-41'</li>\n",
       "\t<li>'Patient-42'</li>\n",
       "\t<li>'Patient-43'</li>\n",
       "\t<li>'Patient-44'</li>\n",
       "\t<li>'Patient-45'</li>\n",
       "\t<li>'Patient-46'</li>\n",
       "\t<li>'Patient-47'</li>\n",
       "\t<li>'Patient-48'</li>\n",
       "\t<li>'Patient-49'</li>\n",
       "\t<li>'Patient-5'</li>\n",
       "\t<li>'Patient-6'</li>\n",
       "\t<li>'Patient-7'</li>\n",
       "\t<li>'Patient-8'</li>\n",
       "\t<li>'Patient-9'</li>\n",
       "</ol>\n"
      ],
      "text/latex": [
       "\\begin{enumerate*}\n",
       "\\item 'Hugo\\_Symbol'\n",
       "\\item 'Patient-0'\n",
       "\\item 'Patient-1'\n",
       "\\item 'Patient-10'\n",
       "\\item 'Patient-11'\n",
       "\\item 'Patient-12'\n",
       "\\item 'Patient-13'\n",
       "\\item 'Patient-14'\n",
       "\\item 'Patient-15'\n",
       "\\item 'Patient-16'\n",
       "\\item 'Patient-17'\n",
       "\\item 'Patient-18'\n",
       "\\item 'Patient-19'\n",
       "\\item 'Patient-2'\n",
       "\\item 'Patient-20'\n",
       "\\item 'Patient-21'\n",
       "\\item 'Patient-22'\n",
       "\\item 'Patient-23'\n",
       "\\item 'Patient-24'\n",
       "\\item 'Patient-25'\n",
       "\\item 'Patient-26'\n",
       "\\item 'Patient-27'\n",
       "\\item 'Patient-28'\n",
       "\\item 'Patient-29'\n",
       "\\item 'Patient-3'\n",
       "\\item 'Patient-30'\n",
       "\\item 'Patient-31'\n",
       "\\item 'Patient-32'\n",
       "\\item 'Patient-33'\n",
       "\\item 'Patient-34'\n",
       "\\item 'Patient-35'\n",
       "\\item 'Patient-36'\n",
       "\\item 'Patient-37'\n",
       "\\item 'Patient-38'\n",
       "\\item 'Patient-39'\n",
       "\\item 'Patient-4'\n",
       "\\item 'Patient-40'\n",
       "\\item 'Patient-41'\n",
       "\\item 'Patient-42'\n",
       "\\item 'Patient-43'\n",
       "\\item 'Patient-44'\n",
       "\\item 'Patient-45'\n",
       "\\item 'Patient-46'\n",
       "\\item 'Patient-47'\n",
       "\\item 'Patient-48'\n",
       "\\item 'Patient-49'\n",
       "\\item 'Patient-5'\n",
       "\\item 'Patient-6'\n",
       "\\item 'Patient-7'\n",
       "\\item 'Patient-8'\n",
       "\\item 'Patient-9'\n",
       "\\end{enumerate*}\n"
      ],
      "text/markdown": [
       "1. 'Hugo_Symbol'\n",
       "2. 'Patient-0'\n",
       "3. 'Patient-1'\n",
       "4. 'Patient-10'\n",
       "5. 'Patient-11'\n",
       "6. 'Patient-12'\n",
       "7. 'Patient-13'\n",
       "8. 'Patient-14'\n",
       "9. 'Patient-15'\n",
       "10. 'Patient-16'\n",
       "11. 'Patient-17'\n",
       "12. 'Patient-18'\n",
       "13. 'Patient-19'\n",
       "14. 'Patient-2'\n",
       "15. 'Patient-20'\n",
       "16. 'Patient-21'\n",
       "17. 'Patient-22'\n",
       "18. 'Patient-23'\n",
       "19. 'Patient-24'\n",
       "20. 'Patient-25'\n",
       "21. 'Patient-26'\n",
       "22. 'Patient-27'\n",
       "23. 'Patient-28'\n",
       "24. 'Patient-29'\n",
       "25. 'Patient-3'\n",
       "26. 'Patient-30'\n",
       "27. 'Patient-31'\n",
       "28. 'Patient-32'\n",
       "29. 'Patient-33'\n",
       "30. 'Patient-34'\n",
       "31. 'Patient-35'\n",
       "32. 'Patient-36'\n",
       "33. 'Patient-37'\n",
       "34. 'Patient-38'\n",
       "35. 'Patient-39'\n",
       "36. 'Patient-4'\n",
       "37. 'Patient-40'\n",
       "38. 'Patient-41'\n",
       "39. 'Patient-42'\n",
       "40. 'Patient-43'\n",
       "41. 'Patient-44'\n",
       "42. 'Patient-45'\n",
       "43. 'Patient-46'\n",
       "44. 'Patient-47'\n",
       "45. 'Patient-48'\n",
       "46. 'Patient-49'\n",
       "47. 'Patient-5'\n",
       "48. 'Patient-6'\n",
       "49. 'Patient-7'\n",
       "50. 'Patient-8'\n",
       "51. 'Patient-9'\n",
       "\n",
       "\n"
      ],
      "text/plain": [
       " [1] \"Hugo_Symbol\" \"Patient-0\"   \"Patient-1\"   \"Patient-10\"  \"Patient-11\" \n",
       " [6] \"Patient-12\"  \"Patient-13\"  \"Patient-14\"  \"Patient-15\"  \"Patient-16\" \n",
       "[11] \"Patient-17\"  \"Patient-18\"  \"Patient-19\"  \"Patient-2\"   \"Patient-20\" \n",
       "[16] \"Patient-21\"  \"Patient-22\"  \"Patient-23\"  \"Patient-24\"  \"Patient-25\" \n",
       "[21] \"Patient-26\"  \"Patient-27\"  \"Patient-28\"  \"Patient-29\"  \"Patient-3\"  \n",
       "[26] \"Patient-30\"  \"Patient-31\"  \"Patient-32\"  \"Patient-33\"  \"Patient-34\" \n",
       "[31] \"Patient-35\"  \"Patient-36\"  \"Patient-37\"  \"Patient-38\"  \"Patient-39\" \n",
       "[36] \"Patient-4\"   \"Patient-40\"  \"Patient-41\"  \"Patient-42\"  \"Patient-43\" \n",
       "[41] \"Patient-44\"  \"Patient-45\"  \"Patient-46\"  \"Patient-47\"  \"Patient-48\" \n",
       "[46] \"Patient-49\"  \"Patient-5\"   \"Patient-6\"   \"Patient-7\"   \"Patient-8\"  \n",
       "[51] \"Patient-9\"  "
      ]
     },
     "metadata": {},
     "output_type": "display_data"
    },
    {
     "name": "stdout",
     "output_type": "stream",
     "text": [
      "  Hugo_Symbol Patient-0 Patient-1 Patient-10 Patient-11 Patient-12 Patient-13\n",
      "1      ABCA13         0         0          0          1          0          0\n",
      "  Patient-14 Patient-15 Patient-16 Patient-17 Patient-18 Patient-19 Patient-2\n",
      "1          0          0          0          0          0          0         0\n",
      "  Patient-20 Patient-21 Patient-22 Patient-23 Patient-24 Patient-25 Patient-26\n",
      "1          0          0          0          0          0          0          0\n",
      "  Patient-27 Patient-28 Patient-29 Patient-3 Patient-30 Patient-31 Patient-32\n",
      "1          0          0          0         0          1          0          0\n",
      "  Patient-33 Patient-34 Patient-35 Patient-36 Patient-37 Patient-38 Patient-39\n",
      "1          0          0          0          0          1          0          0\n",
      "  Patient-4 Patient-40 Patient-41 Patient-42 Patient-43 Patient-44 Patient-45\n",
      "1         0          0          0          0          0          0          0\n",
      "  Patient-46 Patient-47 Patient-48 Patient-49 Patient-5 Patient-6 Patient-7\n",
      "1          0          0          0          0         0         0         0\n",
      "  Patient-8 Patient-9\n",
      "1         0         1\n"
     ]
    },
    {
     "name": "stderr",
     "output_type": "stream",
     "text": [
      "# The quantity of ABCA13 mutations across 50 patients is 4\n"
     ]
    }
   ],
   "source": [
    "# Prepare for the data transformation\n",
    "\n",
    "categorical_varaibles = c(\"Patient_ID\")\n",
    "for(x in categorical_varaibles) {\n",
    "    TotalPatient1166MAF  = cbind(TotalPatient1166MAF,  value=1);  \n",
    "    TotalPatient1166MAF[,x]=TotalPatient1166MAF[,x]; \n",
    "    TotalPatient1166MAF  = dcast(TotalPatient1166MAF,  as.formula(paste0(\"... ~ \", x)), fill=0, fun.aggregate = sum);\n",
    "}\n",
    "\n",
    "dim(TotalPatient1166MAF)\n",
    "head(TotalPatient1166MAF)\n",
    "names(TotalPatient1166MAF)\n",
    "print(TotalPatient1166MAF[which(TotalPatient1166MAF$Hugo_Symbol==\"ABCA13\"), ]) # total 4 mutations\n",
    "ABCA13 <- rowSums(TotalPatient1166MAF[1,2:51])\n",
    "message(\"# The quantity of ABCA13 mutations across 50 patients is \", ABCA13)\n",
    "\n",
    "# The following running result proved that we have successfully converted the data format from long to wide\n",
    "# There is no error messsage \"aggregation function missing defaulting to length\" now\n",
    "# By checking the mutation amount of ABCA13 gene we once again confirmed that the data conversion is correct"
   ]
  },
  {
   "cell_type": "code",
   "execution_count": 108,
   "metadata": {},
   "outputs": [],
   "source": [
    "# print(TotalPatient1166MAF[which(TotalPatient1166MAF$Hugo_Symbol==\"KMT2C\"), ]) # total 20 mutations\n",
    "# print(TotalPatient1166MAF[which(TotalPatient1166MAF$Hugo_Symbol==\"TYRO3\"), ]) # total 11 mutations\n",
    "# print(TotalPatient1166MAF[which(TotalPatient1166MAF$Hugo_Symbol==\"TTN\"), ])   # total 41 mutations\n",
    "# print(TotalPatient1166MAF[which(TotalPatient1166MAF$Hugo_Symbol==\"UBR5\"), ])  # total 07 mutations\n",
    "# I further trimmed out those columns that I won't need\n",
    "# TotalPatient1166MAF <- TotalPatient1166MAF[, -c(1,3,4)]\n",
    "# dim(TotalPatient1166MAF)\n",
    "# head(TotalPatient1166MAF)"
   ]
  },
  {
   "cell_type": "code",
   "execution_count": 109,
   "metadata": {},
   "outputs": [
    {
     "data": {
      "text/html": [
       "<ol class=list-inline>\n",
       "\t<li>1166</li>\n",
       "\t<li>51</li>\n",
       "</ol>\n"
      ],
      "text/latex": [
       "\\begin{enumerate*}\n",
       "\\item 1166\n",
       "\\item 51\n",
       "\\end{enumerate*}\n"
      ],
      "text/markdown": [
       "1. 1166\n",
       "2. 51\n",
       "\n",
       "\n"
      ],
      "text/plain": [
       "[1] 1166   51"
      ]
     },
     "metadata": {},
     "output_type": "display_data"
    },
    {
     "data": {
      "text/html": [
       "<table>\n",
       "<thead><tr><th></th><th scope=col>Hugo_Symbol</th><th scope=col>Patient-0</th><th scope=col>Patient-1</th><th scope=col>Patient-10</th><th scope=col>Patient-11</th><th scope=col>Patient-12</th><th scope=col>Patient-13</th><th scope=col>Patient-14</th><th scope=col>Patient-15</th><th scope=col>Patient-16</th><th scope=col>...</th><th scope=col>Patient-45</th><th scope=col>Patient-46</th><th scope=col>Patient-47</th><th scope=col>Patient-48</th><th scope=col>Patient-49</th><th scope=col>Patient-5</th><th scope=col>Patient-6</th><th scope=col>Patient-7</th><th scope=col>Patient-8</th><th scope=col>Patient-9</th></tr></thead>\n",
       "<tbody>\n",
       "\t<tr><th scope=row>ABCA13</th><td>ABCA13</td><td>0     </td><td>0     </td><td>0     </td><td>1     </td><td>0     </td><td>0     </td><td>0     </td><td>0     </td><td>0     </td><td>...   </td><td>0     </td><td>0     </td><td>0     </td><td>0     </td><td>0     </td><td>0     </td><td>0     </td><td>0     </td><td>0     </td><td>1     </td></tr>\n",
       "\t<tr><th scope=row>ABCA7</th><td>ABCA7 </td><td>0     </td><td>0     </td><td>0     </td><td>0     </td><td>0     </td><td>0     </td><td>0     </td><td>0     </td><td>0     </td><td>...   </td><td>0     </td><td>0     </td><td>0     </td><td>0     </td><td>0     </td><td>0     </td><td>0     </td><td>0     </td><td>0     </td><td>0     </td></tr>\n",
       "\t<tr><th scope=row>ABCA9</th><td>ABCA9 </td><td>0     </td><td>0     </td><td>0     </td><td>0     </td><td>0     </td><td>0     </td><td>0     </td><td>0     </td><td>0     </td><td>...   </td><td>0     </td><td>0     </td><td>0     </td><td>0     </td><td>0     </td><td>0     </td><td>0     </td><td>0     </td><td>0     </td><td>0     </td></tr>\n",
       "\t<tr><th scope=row>ABCC12</th><td>ABCC12</td><td>0     </td><td>0     </td><td>1     </td><td>0     </td><td>0     </td><td>0     </td><td>0     </td><td>0     </td><td>0     </td><td>...   </td><td>0     </td><td>0     </td><td>0     </td><td>0     </td><td>0     </td><td>0     </td><td>0     </td><td>1     </td><td>0     </td><td>0     </td></tr>\n",
       "\t<tr><th scope=row>ABCC5</th><td>ABCC5 </td><td>0     </td><td>0     </td><td>0     </td><td>0     </td><td>0     </td><td>0     </td><td>0     </td><td>0     </td><td>0     </td><td>...   </td><td>0     </td><td>1     </td><td>0     </td><td>0     </td><td>0     </td><td>0     </td><td>0     </td><td>1     </td><td>0     </td><td>0     </td></tr>\n",
       "\t<tr><th scope=row>ABCC8</th><td>ABCC8 </td><td>1     </td><td>0     </td><td>0     </td><td>0     </td><td>0     </td><td>0     </td><td>0     </td><td>0     </td><td>0     </td><td>...   </td><td>0     </td><td>0     </td><td>0     </td><td>0     </td><td>0     </td><td>1     </td><td>0     </td><td>0     </td><td>0     </td><td>0     </td></tr>\n",
       "</tbody>\n",
       "</table>\n"
      ],
      "text/latex": [
       "\\begin{tabular}{r|lllllllllllllllllllllllllllllllllllllllllllllllllll}\n",
       "  & Hugo\\_Symbol & Patient-0 & Patient-1 & Patient-10 & Patient-11 & Patient-12 & Patient-13 & Patient-14 & Patient-15 & Patient-16 & ... & Patient-45 & Patient-46 & Patient-47 & Patient-48 & Patient-49 & Patient-5 & Patient-6 & Patient-7 & Patient-8 & Patient-9\\\\\n",
       "\\hline\n",
       "\tABCA13 & ABCA13 & 0      & 0      & 0      & 1      & 0      & 0      & 0      & 0      & 0      & ...    & 0      & 0      & 0      & 0      & 0      & 0      & 0      & 0      & 0      & 1     \\\\\n",
       "\tABCA7 & ABCA7  & 0      & 0      & 0      & 0      & 0      & 0      & 0      & 0      & 0      & ...    & 0      & 0      & 0      & 0      & 0      & 0      & 0      & 0      & 0      & 0     \\\\\n",
       "\tABCA9 & ABCA9  & 0      & 0      & 0      & 0      & 0      & 0      & 0      & 0      & 0      & ...    & 0      & 0      & 0      & 0      & 0      & 0      & 0      & 0      & 0      & 0     \\\\\n",
       "\tABCC12 & ABCC12 & 0      & 0      & 1      & 0      & 0      & 0      & 0      & 0      & 0      & ...    & 0      & 0      & 0      & 0      & 0      & 0      & 0      & 1      & 0      & 0     \\\\\n",
       "\tABCC5 & ABCC5  & 0      & 0      & 0      & 0      & 0      & 0      & 0      & 0      & 0      & ...    & 0      & 1      & 0      & 0      & 0      & 0      & 0      & 1      & 0      & 0     \\\\\n",
       "\tABCC8 & ABCC8  & 1      & 0      & 0      & 0      & 0      & 0      & 0      & 0      & 0      & ...    & 0      & 0      & 0      & 0      & 0      & 1      & 0      & 0      & 0      & 0     \\\\\n",
       "\\end{tabular}\n"
      ],
      "text/markdown": [
       "\n",
       "| <!--/--> | Hugo_Symbol | Patient-0 | Patient-1 | Patient-10 | Patient-11 | Patient-12 | Patient-13 | Patient-14 | Patient-15 | Patient-16 | ... | Patient-45 | Patient-46 | Patient-47 | Patient-48 | Patient-49 | Patient-5 | Patient-6 | Patient-7 | Patient-8 | Patient-9 | \n",
       "|---|---|---|---|---|---|\n",
       "| ABCA13 | ABCA13 | 0      | 0      | 0      | 1      | 0      | 0      | 0      | 0      | 0      | ...    | 0      | 0      | 0      | 0      | 0      | 0      | 0      | 0      | 0      | 1      | \n",
       "| ABCA7 | ABCA7  | 0      | 0      | 0      | 0      | 0      | 0      | 0      | 0      | 0      | ...    | 0      | 0      | 0      | 0      | 0      | 0      | 0      | 0      | 0      | 0      | \n",
       "| ABCA9 | ABCA9  | 0      | 0      | 0      | 0      | 0      | 0      | 0      | 0      | 0      | ...    | 0      | 0      | 0      | 0      | 0      | 0      | 0      | 0      | 0      | 0      | \n",
       "| ABCC12 | ABCC12 | 0      | 0      | 1      | 0      | 0      | 0      | 0      | 0      | 0      | ...    | 0      | 0      | 0      | 0      | 0      | 0      | 0      | 1      | 0      | 0      | \n",
       "| ABCC5 | ABCC5  | 0      | 0      | 0      | 0      | 0      | 0      | 0      | 0      | 0      | ...    | 0      | 1      | 0      | 0      | 0      | 0      | 0      | 1      | 0      | 0      | \n",
       "| ABCC8 | ABCC8  | 1      | 0      | 0      | 0      | 0      | 0      | 0      | 0      | 0      | ...    | 0      | 0      | 0      | 0      | 0      | 1      | 0      | 0      | 0      | 0      | \n",
       "\n",
       "\n"
      ],
      "text/plain": [
       "       Hugo_Symbol Patient-0 Patient-1 Patient-10 Patient-11 Patient-12\n",
       "ABCA13 ABCA13      0         0         0          1          0         \n",
       "ABCA7  ABCA7       0         0         0          0          0         \n",
       "ABCA9  ABCA9       0         0         0          0          0         \n",
       "ABCC12 ABCC12      0         0         1          0          0         \n",
       "ABCC5  ABCC5       0         0         0          0          0         \n",
       "ABCC8  ABCC8       1         0         0          0          0         \n",
       "       Patient-13 Patient-14 Patient-15 Patient-16 ... Patient-45 Patient-46\n",
       "ABCA13 0          0          0          0          ... 0          0         \n",
       "ABCA7  0          0          0          0          ... 0          0         \n",
       "ABCA9  0          0          0          0          ... 0          0         \n",
       "ABCC12 0          0          0          0          ... 0          0         \n",
       "ABCC5  0          0          0          0          ... 0          1         \n",
       "ABCC8  0          0          0          0          ... 0          0         \n",
       "       Patient-47 Patient-48 Patient-49 Patient-5 Patient-6 Patient-7 Patient-8\n",
       "ABCA13 0          0          0          0         0         0         0        \n",
       "ABCA7  0          0          0          0         0         0         0        \n",
       "ABCA9  0          0          0          0         0         0         0        \n",
       "ABCC12 0          0          0          0         0         1         0        \n",
       "ABCC5  0          0          0          0         0         1         0        \n",
       "ABCC8  0          0          0          1         0         0         0        \n",
       "       Patient-9\n",
       "ABCA13 1        \n",
       "ABCA7  0        \n",
       "ABCA9  0        \n",
       "ABCC12 0        \n",
       "ABCC5  0        \n",
       "ABCC8  0        "
      ]
     },
     "metadata": {},
     "output_type": "display_data"
    }
   ],
   "source": [
    "# The common shared genes are only 1166 but the above table contains 3582 records\n",
    "# so this step will count the same gene frequence to create the final gene frequence matrix used for logistic regression\n",
    "# Hugo_SymbolCount <- 0\n",
    "# for(i in CommonMutated1166genes$Hugo_Symbol) {\n",
    "#   tmp1 <- subset(TotalPatient1166MAF, (TotalPatient1166MAF$Hugo_Symbol %in% i))\n",
    "#   tmp2 <- tmp1[, -1]\n",
    "#   tmp1 <- rbind(tmp2,colSums(tmp2))\n",
    "#   tmp2 <- data.frame(\"Hugo_Symbol\"=i,tail(tmp1,1),stringsAsFactors=FALSE)\n",
    "#   Hugo_SymbolCount <- rbind(Hugo_SymbolCount, tmp2)\n",
    "# }\n",
    "# Hugo_SymbolCount <- Hugo_SymbolCount[-1,]\n",
    "# Adding rownames to each matrix as index vector\n",
    "\n",
    "Hugo_SymbolCount <- TotalPatient1166MAF\n",
    "rownames(Hugo_SymbolCount) = Hugo_SymbolCount[, 1]\n",
    "dim(Hugo_SymbolCount)\n",
    "head(Hugo_SymbolCount)\n",
    "\n",
    "# names(Hugo_SymbolCount)[2:51] <- gsub('[.]', '-', names(Hugo_SymbolCount)[2:51])\n",
    "# As you can see the output table contains only 1166 genes so I finished creating the GeneMutationFrequency matrix \n",
    "# which is named as \"Hugo_SymbolCount\" here."
   ]
  },
  {
   "cell_type": "code",
   "execution_count": 110,
   "metadata": {},
   "outputs": [
    {
     "data": {
      "text/html": [
       "<table>\n",
       "<thead><tr><th scope=col>Patient_ID</th><th scope=col>Tumor_Sample_Barcode</th><th scope=col>Matched_Norm_Sample_Barcode</th><th scope=col>Response</th><th scope=col>Silent_mutations_per_Mb</th><th scope=col>Nonsynonymous_mutations_per_Mb</th><th scope=col>Mutations_per_Mb</th></tr></thead>\n",
       "<tbody>\n",
       "\t<tr><td>Patient-0       </td><td>Patient-0-Tumor </td><td>Patient-0-Normal</td><td>Non-Responder   </td><td>2.87            </td><td> 6.77           </td><td> 9.64           </td></tr>\n",
       "\t<tr><td>Patient-1       </td><td>Patient-1-Tumor </td><td>Patient-1-Normal</td><td>Responder       </td><td>1.92            </td><td> 6.14           </td><td> 8.06           </td></tr>\n",
       "\t<tr><td>Patient-2       </td><td>Patient-2-Tumor </td><td>Patient-2-Normal</td><td>Responder       </td><td>1.32            </td><td> 2.84           </td><td> 4.16           </td></tr>\n",
       "\t<tr><td>Patient-3       </td><td>Patient-3-Tumor </td><td>Patient-3-Normal</td><td>Non-Responder   </td><td>1.78            </td><td> 5.00           </td><td> 6.78           </td></tr>\n",
       "\t<tr><td>Patient-4       </td><td>Patient-4-Tumor </td><td>Patient-4-Normal</td><td>Responder       </td><td>4.93            </td><td>10.50           </td><td>15.43           </td></tr>\n",
       "\t<tr><td>Patient-5       </td><td>Patient-5-Tumor </td><td>Patient-5-Normal</td><td>Non-Responder   </td><td>3.01            </td><td> 8.15           </td><td>11.16           </td></tr>\n",
       "</tbody>\n",
       "</table>\n"
      ],
      "text/latex": [
       "\\begin{tabular}{r|lllllll}\n",
       " Patient\\_ID & Tumor\\_Sample\\_Barcode & Matched\\_Norm\\_Sample\\_Barcode & Response & Silent\\_mutations\\_per\\_Mb & Nonsynonymous\\_mutations\\_per\\_Mb & Mutations\\_per\\_Mb\\\\\n",
       "\\hline\n",
       "\t Patient-0        & Patient-0-Tumor  & Patient-0-Normal & Non-Responder    & 2.87             &  6.77            &  9.64           \\\\\n",
       "\t Patient-1        & Patient-1-Tumor  & Patient-1-Normal & Responder        & 1.92             &  6.14            &  8.06           \\\\\n",
       "\t Patient-2        & Patient-2-Tumor  & Patient-2-Normal & Responder        & 1.32             &  2.84            &  4.16           \\\\\n",
       "\t Patient-3        & Patient-3-Tumor  & Patient-3-Normal & Non-Responder    & 1.78             &  5.00            &  6.78           \\\\\n",
       "\t Patient-4        & Patient-4-Tumor  & Patient-4-Normal & Responder        & 4.93             & 10.50            & 15.43           \\\\\n",
       "\t Patient-5        & Patient-5-Tumor  & Patient-5-Normal & Non-Responder    & 3.01             &  8.15            & 11.16           \\\\\n",
       "\\end{tabular}\n"
      ],
      "text/markdown": [
       "\n",
       "Patient_ID | Tumor_Sample_Barcode | Matched_Norm_Sample_Barcode | Response | Silent_mutations_per_Mb | Nonsynonymous_mutations_per_Mb | Mutations_per_Mb | \n",
       "|---|---|---|---|---|---|\n",
       "| Patient-0        | Patient-0-Tumor  | Patient-0-Normal | Non-Responder    | 2.87             |  6.77            |  9.64            | \n",
       "| Patient-1        | Patient-1-Tumor  | Patient-1-Normal | Responder        | 1.92             |  6.14            |  8.06            | \n",
       "| Patient-2        | Patient-2-Tumor  | Patient-2-Normal | Responder        | 1.32             |  2.84            |  4.16            | \n",
       "| Patient-3        | Patient-3-Tumor  | Patient-3-Normal | Non-Responder    | 1.78             |  5.00            |  6.78            | \n",
       "| Patient-4        | Patient-4-Tumor  | Patient-4-Normal | Responder        | 4.93             | 10.50            | 15.43            | \n",
       "| Patient-5        | Patient-5-Tumor  | Patient-5-Normal | Non-Responder    | 3.01             |  8.15            | 11.16            | \n",
       "\n",
       "\n"
      ],
      "text/plain": [
       "  Patient_ID Tumor_Sample_Barcode Matched_Norm_Sample_Barcode Response     \n",
       "1 Patient-0  Patient-0-Tumor      Patient-0-Normal            Non-Responder\n",
       "2 Patient-1  Patient-1-Tumor      Patient-1-Normal            Responder    \n",
       "3 Patient-2  Patient-2-Tumor      Patient-2-Normal            Responder    \n",
       "4 Patient-3  Patient-3-Tumor      Patient-3-Normal            Non-Responder\n",
       "5 Patient-4  Patient-4-Tumor      Patient-4-Normal            Responder    \n",
       "6 Patient-5  Patient-5-Tumor      Patient-5-Normal            Non-Responder\n",
       "  Silent_mutations_per_Mb Nonsynonymous_mutations_per_Mb Mutations_per_Mb\n",
       "1 2.87                     6.77                           9.64           \n",
       "2 1.92                     6.14                           8.06           \n",
       "3 1.32                     2.84                           4.16           \n",
       "4 1.78                     5.00                           6.78           \n",
       "5 4.93                    10.50                          15.43           \n",
       "6 3.01                     8.15                          11.16           "
      ]
     },
     "metadata": {},
     "output_type": "display_data"
    },
    {
     "data": {
      "text/html": [
       "<ol class=list-inline>\n",
       "\t<li>50</li>\n",
       "\t<li>7</li>\n",
       "</ol>\n"
      ],
      "text/latex": [
       "\\begin{enumerate*}\n",
       "\\item 50\n",
       "\\item 7\n",
       "\\end{enumerate*}\n"
      ],
      "text/markdown": [
       "1. 50\n",
       "2. 7\n",
       "\n",
       "\n"
      ],
      "text/plain": [
       "[1] 50  7"
      ]
     },
     "metadata": {},
     "output_type": "display_data"
    }
   ],
   "source": [
    "# Now I want to create the drug response matrix named ResponseOutcome (50x2)\n",
    "# outcome=1 means responder; outcome=0 means non-responder\n",
    "\n",
    "SampleInformation <- read.table(\"./vanallen-assessment/sample-information.tsv\", sep=\"\\t\", header = TRUE, stringsAsFactors = FALSE)\n",
    "head(SampleInformation)\n",
    "dim(SampleInformation)\n"
   ]
  },
  {
   "cell_type": "code",
   "execution_count": 111,
   "metadata": {},
   "outputs": [
    {
     "data": {
      "text/html": [
       "<ol class=list-inline>\n",
       "\t<li>50</li>\n",
       "\t<li>2</li>\n",
       "</ol>\n"
      ],
      "text/latex": [
       "\\begin{enumerate*}\n",
       "\\item 50\n",
       "\\item 2\n",
       "\\end{enumerate*}\n"
      ],
      "text/markdown": [
       "1. 50\n",
       "2. 2\n",
       "\n",
       "\n"
      ],
      "text/plain": [
       "[1] 50  2"
      ]
     },
     "metadata": {},
     "output_type": "display_data"
    },
    {
     "data": {
      "text/html": [
       "<table>\n",
       "<thead><tr><th></th><th scope=col>Patient_ID</th><th scope=col>Response</th></tr></thead>\n",
       "<tbody>\n",
       "\t<tr><th scope=row>1</th><td>Patient-0 </td><td>0         </td></tr>\n",
       "\t<tr><th scope=row>2</th><td>Patient-1 </td><td>1         </td></tr>\n",
       "\t<tr><th scope=row>11</th><td>Patient-10</td><td>0         </td></tr>\n",
       "\t<tr><th scope=row>12</th><td>Patient-11</td><td>1         </td></tr>\n",
       "\t<tr><th scope=row>13</th><td>Patient-12</td><td>1         </td></tr>\n",
       "\t<tr><th scope=row>14</th><td>Patient-13</td><td>1         </td></tr>\n",
       "</tbody>\n",
       "</table>\n"
      ],
      "text/latex": [
       "\\begin{tabular}{r|ll}\n",
       "  & Patient\\_ID & Response\\\\\n",
       "\\hline\n",
       "\t1 & Patient-0  & 0         \\\\\n",
       "\t2 & Patient-1  & 1         \\\\\n",
       "\t11 & Patient-10 & 0         \\\\\n",
       "\t12 & Patient-11 & 1         \\\\\n",
       "\t13 & Patient-12 & 1         \\\\\n",
       "\t14 & Patient-13 & 1         \\\\\n",
       "\\end{tabular}\n"
      ],
      "text/markdown": [
       "\n",
       "| <!--/--> | Patient_ID | Response | \n",
       "|---|---|---|---|---|---|\n",
       "| 1 | Patient-0  | 0          | \n",
       "| 2 | Patient-1  | 1          | \n",
       "| 11 | Patient-10 | 0          | \n",
       "| 12 | Patient-11 | 1          | \n",
       "| 13 | Patient-12 | 1          | \n",
       "| 14 | Patient-13 | 1          | \n",
       "\n",
       "\n"
      ],
      "text/plain": [
       "   Patient_ID Response\n",
       "1  Patient-0  0       \n",
       "2  Patient-1  1       \n",
       "11 Patient-10 0       \n",
       "12 Patient-11 1       \n",
       "13 Patient-12 1       \n",
       "14 Patient-13 1       "
      ]
     },
     "metadata": {},
     "output_type": "display_data"
    },
    {
     "data": {
      "text/html": [
       "<table>\n",
       "<thead><tr><th></th><th scope=col>Patient_ID</th><th scope=col>Response</th></tr></thead>\n",
       "<tbody>\n",
       "\t<tr><th scope=row>Patient-0</th><td>Patient-0 </td><td>0         </td></tr>\n",
       "\t<tr><th scope=row>Patient-1</th><td>Patient-1 </td><td>1         </td></tr>\n",
       "\t<tr><th scope=row>Patient-10</th><td>Patient-10</td><td>0         </td></tr>\n",
       "\t<tr><th scope=row>Patient-11</th><td>Patient-11</td><td>1         </td></tr>\n",
       "\t<tr><th scope=row>Patient-12</th><td>Patient-12</td><td>1         </td></tr>\n",
       "\t<tr><th scope=row>Patient-13</th><td>Patient-13</td><td>1         </td></tr>\n",
       "</tbody>\n",
       "</table>\n"
      ],
      "text/latex": [
       "\\begin{tabular}{r|ll}\n",
       "  & Patient\\_ID & Response\\\\\n",
       "\\hline\n",
       "\tPatient-0 & Patient-0  & 0         \\\\\n",
       "\tPatient-1 & Patient-1  & 1         \\\\\n",
       "\tPatient-10 & Patient-10 & 0         \\\\\n",
       "\tPatient-11 & Patient-11 & 1         \\\\\n",
       "\tPatient-12 & Patient-12 & 1         \\\\\n",
       "\tPatient-13 & Patient-13 & 1         \\\\\n",
       "\\end{tabular}\n"
      ],
      "text/markdown": [
       "\n",
       "| <!--/--> | Patient_ID | Response | \n",
       "|---|---|---|---|---|---|\n",
       "| Patient-0 | Patient-0  | 0          | \n",
       "| Patient-1 | Patient-1  | 1          | \n",
       "| Patient-10 | Patient-10 | 0          | \n",
       "| Patient-11 | Patient-11 | 1          | \n",
       "| Patient-12 | Patient-12 | 1          | \n",
       "| Patient-13 | Patient-13 | 1          | \n",
       "\n",
       "\n"
      ],
      "text/plain": [
       "           Patient_ID Response\n",
       "Patient-0  Patient-0  0       \n",
       "Patient-1  Patient-1  1       \n",
       "Patient-10 Patient-10 0       \n",
       "Patient-11 Patient-11 1       \n",
       "Patient-12 Patient-12 1       \n",
       "Patient-13 Patient-13 1       "
      ]
     },
     "metadata": {},
     "output_type": "display_data"
    },
    {
     "name": "stdout",
     "output_type": "stream",
     "text": [
      " [1] \"Patient-0\"  \"Patient-1\"  \"Patient-10\" \"Patient-11\" \"Patient-12\"\n",
      " [6] \"Patient-13\" \"Patient-14\" \"Patient-15\" \"Patient-16\" \"Patient-17\"\n",
      "[11] \"Patient-18\" \"Patient-19\" \"Patient-2\"  \"Patient-20\" \"Patient-21\"\n",
      "[16] \"Patient-22\" \"Patient-23\" \"Patient-24\" \"Patient-25\" \"Patient-26\"\n",
      "[21] \"Patient-27\" \"Patient-28\" \"Patient-29\" \"Patient-3\"  \"Patient-30\"\n",
      "[26] \"Patient-31\" \"Patient-32\" \"Patient-33\" \"Patient-34\" \"Patient-35\"\n",
      "[31] \"Patient-36\" \"Patient-37\" \"Patient-38\" \"Patient-39\" \"Patient-4\" \n",
      "[36] \"Patient-40\" \"Patient-41\" \"Patient-42\" \"Patient-43\" \"Patient-44\"\n",
      "[41] \"Patient-45\" \"Patient-46\" \"Patient-47\" \"Patient-48\" \"Patient-49\"\n",
      "[46] \"Patient-5\"  \"Patient-6\"  \"Patient-7\"  \"Patient-8\"  \"Patient-9\" \n",
      " [1] \"Patient-0\"  \"Patient-1\"  \"Patient-10\" \"Patient-11\" \"Patient-12\"\n",
      " [6] \"Patient-13\" \"Patient-14\" \"Patient-15\" \"Patient-16\" \"Patient-17\"\n",
      "[11] \"Patient-18\" \"Patient-19\" \"Patient-2\"  \"Patient-20\" \"Patient-21\"\n",
      "[16] \"Patient-22\" \"Patient-23\" \"Patient-24\" \"Patient-25\" \"Patient-26\"\n",
      "[21] \"Patient-27\" \"Patient-28\" \"Patient-29\" \"Patient-3\"  \"Patient-30\"\n",
      "[26] \"Patient-31\" \"Patient-32\" \"Patient-33\" \"Patient-34\" \"Patient-35\"\n",
      "[31] \"Patient-36\" \"Patient-37\" \"Patient-38\" \"Patient-39\" \"Patient-4\" \n",
      "[36] \"Patient-40\" \"Patient-41\" \"Patient-42\" \"Patient-43\" \"Patient-44\"\n",
      "[41] \"Patient-45\" \"Patient-46\" \"Patient-47\" \"Patient-48\" \"Patient-49\"\n",
      "[46] \"Patient-5\"  \"Patient-6\"  \"Patient-7\"  \"Patient-8\"  \"Patient-9\" \n",
      "[1] TRUE\n"
     ]
    },
    {
     "data": {
      "text/html": [
       "<table>\n",
       "<thead><tr><th></th><th scope=col>Hugo_Symbol</th><th scope=col>Patient-0</th><th scope=col>Patient-1</th><th scope=col>Patient-10</th><th scope=col>Patient-11</th><th scope=col>Patient-12</th><th scope=col>Patient-13</th><th scope=col>Patient-14</th><th scope=col>Patient-15</th><th scope=col>Patient-16</th><th scope=col>...</th><th scope=col>Patient-45</th><th scope=col>Patient-46</th><th scope=col>Patient-47</th><th scope=col>Patient-48</th><th scope=col>Patient-49</th><th scope=col>Patient-5</th><th scope=col>Patient-6</th><th scope=col>Patient-7</th><th scope=col>Patient-8</th><th scope=col>Patient-9</th></tr></thead>\n",
       "<tbody>\n",
       "\t<tr><th scope=row>ABCA13</th><td>ABCA13</td><td>0     </td><td>0     </td><td>0     </td><td>1     </td><td>0     </td><td>0     </td><td>0     </td><td>0     </td><td>0     </td><td>...   </td><td>0     </td><td>0     </td><td>0     </td><td>0     </td><td>0     </td><td>0     </td><td>0     </td><td>0     </td><td>0     </td><td>1     </td></tr>\n",
       "\t<tr><th scope=row>ABCA7</th><td>ABCA7 </td><td>0     </td><td>0     </td><td>0     </td><td>0     </td><td>0     </td><td>0     </td><td>0     </td><td>0     </td><td>0     </td><td>...   </td><td>0     </td><td>0     </td><td>0     </td><td>0     </td><td>0     </td><td>0     </td><td>0     </td><td>0     </td><td>0     </td><td>0     </td></tr>\n",
       "\t<tr><th scope=row>ABCA9</th><td>ABCA9 </td><td>0     </td><td>0     </td><td>0     </td><td>0     </td><td>0     </td><td>0     </td><td>0     </td><td>0     </td><td>0     </td><td>...   </td><td>0     </td><td>0     </td><td>0     </td><td>0     </td><td>0     </td><td>0     </td><td>0     </td><td>0     </td><td>0     </td><td>0     </td></tr>\n",
       "\t<tr><th scope=row>ABCC12</th><td>ABCC12</td><td>0     </td><td>0     </td><td>1     </td><td>0     </td><td>0     </td><td>0     </td><td>0     </td><td>0     </td><td>0     </td><td>...   </td><td>0     </td><td>0     </td><td>0     </td><td>0     </td><td>0     </td><td>0     </td><td>0     </td><td>1     </td><td>0     </td><td>0     </td></tr>\n",
       "\t<tr><th scope=row>ABCC5</th><td>ABCC5 </td><td>0     </td><td>0     </td><td>0     </td><td>0     </td><td>0     </td><td>0     </td><td>0     </td><td>0     </td><td>0     </td><td>...   </td><td>0     </td><td>1     </td><td>0     </td><td>0     </td><td>0     </td><td>0     </td><td>0     </td><td>1     </td><td>0     </td><td>0     </td></tr>\n",
       "\t<tr><th scope=row>ABCC8</th><td>ABCC8 </td><td>1     </td><td>0     </td><td>0     </td><td>0     </td><td>0     </td><td>0     </td><td>0     </td><td>0     </td><td>0     </td><td>...   </td><td>0     </td><td>0     </td><td>0     </td><td>0     </td><td>0     </td><td>1     </td><td>0     </td><td>0     </td><td>0     </td><td>0     </td></tr>\n",
       "</tbody>\n",
       "</table>\n"
      ],
      "text/latex": [
       "\\begin{tabular}{r|lllllllllllllllllllllllllllllllllllllllllllllllllll}\n",
       "  & Hugo\\_Symbol & Patient-0 & Patient-1 & Patient-10 & Patient-11 & Patient-12 & Patient-13 & Patient-14 & Patient-15 & Patient-16 & ... & Patient-45 & Patient-46 & Patient-47 & Patient-48 & Patient-49 & Patient-5 & Patient-6 & Patient-7 & Patient-8 & Patient-9\\\\\n",
       "\\hline\n",
       "\tABCA13 & ABCA13 & 0      & 0      & 0      & 1      & 0      & 0      & 0      & 0      & 0      & ...    & 0      & 0      & 0      & 0      & 0      & 0      & 0      & 0      & 0      & 1     \\\\\n",
       "\tABCA7 & ABCA7  & 0      & 0      & 0      & 0      & 0      & 0      & 0      & 0      & 0      & ...    & 0      & 0      & 0      & 0      & 0      & 0      & 0      & 0      & 0      & 0     \\\\\n",
       "\tABCA9 & ABCA9  & 0      & 0      & 0      & 0      & 0      & 0      & 0      & 0      & 0      & ...    & 0      & 0      & 0      & 0      & 0      & 0      & 0      & 0      & 0      & 0     \\\\\n",
       "\tABCC12 & ABCC12 & 0      & 0      & 1      & 0      & 0      & 0      & 0      & 0      & 0      & ...    & 0      & 0      & 0      & 0      & 0      & 0      & 0      & 1      & 0      & 0     \\\\\n",
       "\tABCC5 & ABCC5  & 0      & 0      & 0      & 0      & 0      & 0      & 0      & 0      & 0      & ...    & 0      & 1      & 0      & 0      & 0      & 0      & 0      & 1      & 0      & 0     \\\\\n",
       "\tABCC8 & ABCC8  & 1      & 0      & 0      & 0      & 0      & 0      & 0      & 0      & 0      & ...    & 0      & 0      & 0      & 0      & 0      & 1      & 0      & 0      & 0      & 0     \\\\\n",
       "\\end{tabular}\n"
      ],
      "text/markdown": [
       "\n",
       "| <!--/--> | Hugo_Symbol | Patient-0 | Patient-1 | Patient-10 | Patient-11 | Patient-12 | Patient-13 | Patient-14 | Patient-15 | Patient-16 | ... | Patient-45 | Patient-46 | Patient-47 | Patient-48 | Patient-49 | Patient-5 | Patient-6 | Patient-7 | Patient-8 | Patient-9 | \n",
       "|---|---|---|---|---|---|\n",
       "| ABCA13 | ABCA13 | 0      | 0      | 0      | 1      | 0      | 0      | 0      | 0      | 0      | ...    | 0      | 0      | 0      | 0      | 0      | 0      | 0      | 0      | 0      | 1      | \n",
       "| ABCA7 | ABCA7  | 0      | 0      | 0      | 0      | 0      | 0      | 0      | 0      | 0      | ...    | 0      | 0      | 0      | 0      | 0      | 0      | 0      | 0      | 0      | 0      | \n",
       "| ABCA9 | ABCA9  | 0      | 0      | 0      | 0      | 0      | 0      | 0      | 0      | 0      | ...    | 0      | 0      | 0      | 0      | 0      | 0      | 0      | 0      | 0      | 0      | \n",
       "| ABCC12 | ABCC12 | 0      | 0      | 1      | 0      | 0      | 0      | 0      | 0      | 0      | ...    | 0      | 0      | 0      | 0      | 0      | 0      | 0      | 1      | 0      | 0      | \n",
       "| ABCC5 | ABCC5  | 0      | 0      | 0      | 0      | 0      | 0      | 0      | 0      | 0      | ...    | 0      | 1      | 0      | 0      | 0      | 0      | 0      | 1      | 0      | 0      | \n",
       "| ABCC8 | ABCC8  | 1      | 0      | 0      | 0      | 0      | 0      | 0      | 0      | 0      | ...    | 0      | 0      | 0      | 0      | 0      | 1      | 0      | 0      | 0      | 0      | \n",
       "\n",
       "\n"
      ],
      "text/plain": [
       "       Hugo_Symbol Patient-0 Patient-1 Patient-10 Patient-11 Patient-12\n",
       "ABCA13 ABCA13      0         0         0          1          0         \n",
       "ABCA7  ABCA7       0         0         0          0          0         \n",
       "ABCA9  ABCA9       0         0         0          0          0         \n",
       "ABCC12 ABCC12      0         0         1          0          0         \n",
       "ABCC5  ABCC5       0         0         0          0          0         \n",
       "ABCC8  ABCC8       1         0         0          0          0         \n",
       "       Patient-13 Patient-14 Patient-15 Patient-16 ... Patient-45 Patient-46\n",
       "ABCA13 0          0          0          0          ... 0          0         \n",
       "ABCA7  0          0          0          0          ... 0          0         \n",
       "ABCA9  0          0          0          0          ... 0          0         \n",
       "ABCC12 0          0          0          0          ... 0          0         \n",
       "ABCC5  0          0          0          0          ... 0          1         \n",
       "ABCC8  0          0          0          0          ... 0          0         \n",
       "       Patient-47 Patient-48 Patient-49 Patient-5 Patient-6 Patient-7 Patient-8\n",
       "ABCA13 0          0          0          0         0         0         0        \n",
       "ABCA7  0          0          0          0         0         0         0        \n",
       "ABCA9  0          0          0          0         0         0         0        \n",
       "ABCC12 0          0          0          0         0         1         0        \n",
       "ABCC5  0          0          0          0         0         1         0        \n",
       "ABCC8  0          0          0          1         0         0         0        \n",
       "       Patient-9\n",
       "ABCA13 1        \n",
       "ABCA7  0        \n",
       "ABCA9  0        \n",
       "ABCC12 0        \n",
       "ABCC5  0        \n",
       "ABCC8  0        "
      ]
     },
     "metadata": {},
     "output_type": "display_data"
    }
   ],
   "source": [
    "# The following steps will create the second matrix stored the drug response information as the binary outcome\n",
    "# which Response=1 means responder; Response=0 means non-responder\n",
    "\n",
    "ResponseOutcome <- SampleInformation[, c(1,4)]\n",
    "ResponseOutcome$Response[which(ResponseOutcome$Response==\"Non-Responder\")] <- 0\n",
    "ResponseOutcome$Response[which(ResponseOutcome$Response==\"Responder\")] <- 1\n",
    "ResponseOutcome <- ResponseOutcome[order(ResponseOutcome$Patient_ID),]\n",
    "dim(ResponseOutcome)\n",
    "head(ResponseOutcome)\n",
    "rownames(ResponseOutcome) = ResponseOutcome[, 1]\n",
    "head(ResponseOutcome)\n",
    "print(names(Hugo_SymbolCount)[2:51])\n",
    "print(ResponseOutcome$Patient_ID)\n",
    "print(identical(colnames(Hugo_SymbolCount)[2:51], as.character(ResponseOutcome$Patient_ID)))\n",
    "head(Hugo_SymbolCount)\n",
    "\n",
    "# I carefully checked the Patient_ID to make sure the Patient_ID information is identical between 2 matrix \n",
    "# I finished the DrugResonseOutcome matrix"
   ]
  },
  {
   "cell_type": "code",
   "execution_count": 112,
   "metadata": {},
   "outputs": [
    {
     "data": {
      "text/html": [
       "<table>\n",
       "<thead><tr><th></th><th scope=col>Patient-0</th><th scope=col>Patient-1</th><th scope=col>Patient-10</th><th scope=col>Patient-11</th><th scope=col>Patient-12</th><th scope=col>Patient-13</th><th scope=col>Patient-14</th><th scope=col>Patient-15</th><th scope=col>Patient-16</th><th scope=col>Patient-17</th><th scope=col>...</th><th scope=col>Patient-45</th><th scope=col>Patient-46</th><th scope=col>Patient-47</th><th scope=col>Patient-48</th><th scope=col>Patient-49</th><th scope=col>Patient-5</th><th scope=col>Patient-6</th><th scope=col>Patient-7</th><th scope=col>Patient-8</th><th scope=col>Patient-9</th></tr></thead>\n",
       "<tbody>\n",
       "\t<tr><th scope=row>ABCA13</th><td>0  </td><td>0  </td><td>0  </td><td>1  </td><td>0  </td><td>0  </td><td>0  </td><td>0  </td><td>0  </td><td>0  </td><td>...</td><td>0  </td><td>0  </td><td>0  </td><td>0  </td><td>0  </td><td>0  </td><td>0  </td><td>0  </td><td>0  </td><td>1  </td></tr>\n",
       "\t<tr><th scope=row>ABCA7</th><td>0  </td><td>0  </td><td>0  </td><td>0  </td><td>0  </td><td>0  </td><td>0  </td><td>0  </td><td>0  </td><td>1  </td><td>...</td><td>0  </td><td>0  </td><td>0  </td><td>0  </td><td>0  </td><td>0  </td><td>0  </td><td>0  </td><td>0  </td><td>0  </td></tr>\n",
       "\t<tr><th scope=row>ABCA9</th><td>0  </td><td>0  </td><td>0  </td><td>0  </td><td>0  </td><td>0  </td><td>0  </td><td>0  </td><td>0  </td><td>0  </td><td>...</td><td>0  </td><td>0  </td><td>0  </td><td>0  </td><td>0  </td><td>0  </td><td>0  </td><td>0  </td><td>0  </td><td>0  </td></tr>\n",
       "\t<tr><th scope=row>ABCC12</th><td>0  </td><td>0  </td><td>1  </td><td>0  </td><td>0  </td><td>0  </td><td>0  </td><td>0  </td><td>0  </td><td>1  </td><td>...</td><td>0  </td><td>0  </td><td>0  </td><td>0  </td><td>0  </td><td>0  </td><td>0  </td><td>1  </td><td>0  </td><td>0  </td></tr>\n",
       "\t<tr><th scope=row>ABCC5</th><td>0  </td><td>0  </td><td>0  </td><td>0  </td><td>0  </td><td>0  </td><td>0  </td><td>0  </td><td>0  </td><td>0  </td><td>...</td><td>0  </td><td>1  </td><td>0  </td><td>0  </td><td>0  </td><td>0  </td><td>0  </td><td>1  </td><td>0  </td><td>0  </td></tr>\n",
       "\t<tr><th scope=row>ABCC8</th><td>1  </td><td>0  </td><td>0  </td><td>0  </td><td>0  </td><td>0  </td><td>0  </td><td>0  </td><td>0  </td><td>0  </td><td>...</td><td>0  </td><td>0  </td><td>0  </td><td>0  </td><td>0  </td><td>1  </td><td>0  </td><td>0  </td><td>0  </td><td>0  </td></tr>\n",
       "</tbody>\n",
       "</table>\n"
      ],
      "text/latex": [
       "\\begin{tabular}{r|llllllllllllllllllllllllllllllllllllllllllllllllll}\n",
       "  & Patient-0 & Patient-1 & Patient-10 & Patient-11 & Patient-12 & Patient-13 & Patient-14 & Patient-15 & Patient-16 & Patient-17 & ... & Patient-45 & Patient-46 & Patient-47 & Patient-48 & Patient-49 & Patient-5 & Patient-6 & Patient-7 & Patient-8 & Patient-9\\\\\n",
       "\\hline\n",
       "\tABCA13 & 0   & 0   & 0   & 1   & 0   & 0   & 0   & 0   & 0   & 0   & ... & 0   & 0   & 0   & 0   & 0   & 0   & 0   & 0   & 0   & 1  \\\\\n",
       "\tABCA7 & 0   & 0   & 0   & 0   & 0   & 0   & 0   & 0   & 0   & 1   & ... & 0   & 0   & 0   & 0   & 0   & 0   & 0   & 0   & 0   & 0  \\\\\n",
       "\tABCA9 & 0   & 0   & 0   & 0   & 0   & 0   & 0   & 0   & 0   & 0   & ... & 0   & 0   & 0   & 0   & 0   & 0   & 0   & 0   & 0   & 0  \\\\\n",
       "\tABCC12 & 0   & 0   & 1   & 0   & 0   & 0   & 0   & 0   & 0   & 1   & ... & 0   & 0   & 0   & 0   & 0   & 0   & 0   & 1   & 0   & 0  \\\\\n",
       "\tABCC5 & 0   & 0   & 0   & 0   & 0   & 0   & 0   & 0   & 0   & 0   & ... & 0   & 1   & 0   & 0   & 0   & 0   & 0   & 1   & 0   & 0  \\\\\n",
       "\tABCC8 & 1   & 0   & 0   & 0   & 0   & 0   & 0   & 0   & 0   & 0   & ... & 0   & 0   & 0   & 0   & 0   & 1   & 0   & 0   & 0   & 0  \\\\\n",
       "\\end{tabular}\n"
      ],
      "text/markdown": [
       "\n",
       "| <!--/--> | Patient-0 | Patient-1 | Patient-10 | Patient-11 | Patient-12 | Patient-13 | Patient-14 | Patient-15 | Patient-16 | Patient-17 | ... | Patient-45 | Patient-46 | Patient-47 | Patient-48 | Patient-49 | Patient-5 | Patient-6 | Patient-7 | Patient-8 | Patient-9 | \n",
       "|---|---|---|---|---|---|\n",
       "| ABCA13 | 0   | 0   | 0   | 1   | 0   | 0   | 0   | 0   | 0   | 0   | ... | 0   | 0   | 0   | 0   | 0   | 0   | 0   | 0   | 0   | 1   | \n",
       "| ABCA7 | 0   | 0   | 0   | 0   | 0   | 0   | 0   | 0   | 0   | 1   | ... | 0   | 0   | 0   | 0   | 0   | 0   | 0   | 0   | 0   | 0   | \n",
       "| ABCA9 | 0   | 0   | 0   | 0   | 0   | 0   | 0   | 0   | 0   | 0   | ... | 0   | 0   | 0   | 0   | 0   | 0   | 0   | 0   | 0   | 0   | \n",
       "| ABCC12 | 0   | 0   | 1   | 0   | 0   | 0   | 0   | 0   | 0   | 1   | ... | 0   | 0   | 0   | 0   | 0   | 0   | 0   | 1   | 0   | 0   | \n",
       "| ABCC5 | 0   | 0   | 0   | 0   | 0   | 0   | 0   | 0   | 0   | 0   | ... | 0   | 1   | 0   | 0   | 0   | 0   | 0   | 1   | 0   | 0   | \n",
       "| ABCC8 | 1   | 0   | 0   | 0   | 0   | 0   | 0   | 0   | 0   | 0   | ... | 0   | 0   | 0   | 0   | 0   | 1   | 0   | 0   | 0   | 0   | \n",
       "\n",
       "\n"
      ],
      "text/plain": [
       "       Patient-0 Patient-1 Patient-10 Patient-11 Patient-12 Patient-13\n",
       "ABCA13 0         0         0          1          0          0         \n",
       "ABCA7  0         0         0          0          0          0         \n",
       "ABCA9  0         0         0          0          0          0         \n",
       "ABCC12 0         0         1          0          0          0         \n",
       "ABCC5  0         0         0          0          0          0         \n",
       "ABCC8  1         0         0          0          0          0         \n",
       "       Patient-14 Patient-15 Patient-16 Patient-17 ... Patient-45 Patient-46\n",
       "ABCA13 0          0          0          0          ... 0          0         \n",
       "ABCA7  0          0          0          1          ... 0          0         \n",
       "ABCA9  0          0          0          0          ... 0          0         \n",
       "ABCC12 0          0          0          1          ... 0          0         \n",
       "ABCC5  0          0          0          0          ... 0          1         \n",
       "ABCC8  0          0          0          0          ... 0          0         \n",
       "       Patient-47 Patient-48 Patient-49 Patient-5 Patient-6 Patient-7 Patient-8\n",
       "ABCA13 0          0          0          0         0         0         0        \n",
       "ABCA7  0          0          0          0         0         0         0        \n",
       "ABCA9  0          0          0          0         0         0         0        \n",
       "ABCC12 0          0          0          0         0         1         0        \n",
       "ABCC5  0          0          0          0         0         1         0        \n",
       "ABCC8  0          0          0          1         0         0         0        \n",
       "       Patient-9\n",
       "ABCA13 1        \n",
       "ABCA7  0        \n",
       "ABCA9  0        \n",
       "ABCC12 0        \n",
       "ABCC5  0        \n",
       "ABCC8  0        "
      ]
     },
     "metadata": {},
     "output_type": "display_data"
    },
    {
     "data": {
      "text/html": [
       "<ol class=list-inline>\n",
       "\t<li>1166</li>\n",
       "\t<li>50</li>\n",
       "</ol>\n"
      ],
      "text/latex": [
       "\\begin{enumerate*}\n",
       "\\item 1166\n",
       "\\item 50\n",
       "\\end{enumerate*}\n"
      ],
      "text/markdown": [
       "1. 1166\n",
       "2. 50\n",
       "\n",
       "\n"
      ],
      "text/plain": [
       "[1] 1166   50"
      ]
     },
     "metadata": {},
     "output_type": "display_data"
    }
   ],
   "source": [
    "# I deleted the Hugo_Symbol column from Hugo_SymbolCount matrix \n",
    "\n",
    "Hugo_SymbolCount  <-  Hugo_SymbolCount[,-1]\n",
    "head(Hugo_SymbolCount)\n",
    "dim(Hugo_SymbolCount)\n"
   ]
  },
  {
   "cell_type": "code",
   "execution_count": 113,
   "metadata": {},
   "outputs": [
    {
     "name": "stdout",
     "output_type": "stream",
     "text": [
      "\n",
      "Call:\n",
      "glm(formula = Response ~ x, data = pDat)\n",
      "\n",
      "Deviance Residuals: \n",
      "    Min       1Q   Median       3Q      Max  \n",
      "-0.8000  -0.4667  -0.1333   0.5333   0.5333  \n",
      "\n",
      "Coefficients:\n",
      "            Estimate Std. Error t value Pr(>|t|)    \n",
      "(Intercept)  0.46667    0.07454   6.261    1e-07 ***\n",
      "x            0.33333    0.23570   1.414    0.164    \n",
      "---\n",
      "Signif. codes:  0 '***' 0.001 '**' 0.01 '*' 0.05 '.' 0.1 ' ' 1\n",
      "\n",
      "(Dispersion parameter for gaussian family taken to be 0.25)\n",
      "\n",
      "    Null deviance: 12.5  on 49  degrees of freedom\n",
      "Residual deviance: 12.0  on 48  degrees of freedom\n",
      "AIC: 76.538\n",
      "\n",
      "Number of Fisher Scoring iterations: 2\n",
      "\n"
     ]
    }
   ],
   "source": [
    "# The following codes are for Logitic regression to test the drug response association \n",
    "# with 1166 mutated genes (categorical variables). \n",
    "\n",
    "dat <- data.matrix(Hugo_SymbolCount)\n",
    "pDat <- ResponseOutcome\n",
    "pDat$Response <- as.numeric(pDat$Response)\n",
    "zVec <- 0\n",
    "pVec <- 0\n",
    "nGene=nrow(Hugo_SymbolCount)\n",
    "for(i in 1:nGene)\n",
    "{\n",
    "  pDat$x=dat[i,]\n",
    "  resi=summary(glm(Response~x, data=pDat))\n",
    "  # resi=summary(glm(Response~x, data=pDat, family = \"binomial\"))\n",
    "  zVec=c(zVec, resi$coefficients[2,3]) # z value \n",
    "  pVec=c(pVec, resi$coefficients[2,4]) # p value\n",
    "}\n",
    "zVec <- zVec[-1]\n",
    "pVec <- pVec[-1]\n",
    "print(resi)"
   ]
  },
  {
   "cell_type": "code",
   "execution_count": 114,
   "metadata": {},
   "outputs": [
    {
     "data": {
      "text/html": [
       "<table>\n",
       "<thead><tr><th></th><th scope=col>stat</th><th scope=col>pval</th><th scope=col>p.adj</th></tr></thead>\n",
       "<tbody>\n",
       "\t<tr><th scope=row>ABCA13</th><td> 1.032796e+00</td><td>0.3068754    </td><td>1            </td></tr>\n",
       "\t<tr><th scope=row>ABCA7</th><td>-2.175584e-16</td><td>1.0000000    </td><td>1            </td></tr>\n",
       "\t<tr><th scope=row>ABCA9</th><td> 0.000000e+00</td><td>1.0000000    </td><td>1            </td></tr>\n",
       "\t<tr><th scope=row>ABCC12</th><td> 5.855400e-01</td><td>0.5609277    </td><td>1            </td></tr>\n",
       "\t<tr><th scope=row>ABCC5</th><td> 5.855400e-01</td><td>0.5609277    </td><td>1            </td></tr>\n",
       "\t<tr><th scope=row>ABCC8</th><td> 0.000000e+00</td><td>1.0000000    </td><td>1            </td></tr>\n",
       "</tbody>\n",
       "</table>\n"
      ],
      "text/latex": [
       "\\begin{tabular}{r|lll}\n",
       "  & stat & pval & p.adj\\\\\n",
       "\\hline\n",
       "\tABCA13 &  1.032796e+00 & 0.3068754     & 1            \\\\\n",
       "\tABCA7 & -2.175584e-16 & 1.0000000     & 1            \\\\\n",
       "\tABCA9 &  0.000000e+00 & 1.0000000     & 1            \\\\\n",
       "\tABCC12 &  5.855400e-01 & 0.5609277     & 1            \\\\\n",
       "\tABCC5 &  5.855400e-01 & 0.5609277     & 1            \\\\\n",
       "\tABCC8 &  0.000000e+00 & 1.0000000     & 1            \\\\\n",
       "\\end{tabular}\n"
      ],
      "text/markdown": [
       "\n",
       "| <!--/--> | stat | pval | p.adj | \n",
       "|---|---|---|---|---|---|\n",
       "| ABCA13 |  1.032796e+00 | 0.3068754     | 1             | \n",
       "| ABCA7 | -2.175584e-16 | 1.0000000     | 1             | \n",
       "| ABCA9 |  0.000000e+00 | 1.0000000     | 1             | \n",
       "| ABCC12 |  5.855400e-01 | 0.5609277     | 1             | \n",
       "| ABCC5 |  5.855400e-01 | 0.5609277     | 1             | \n",
       "| ABCC8 |  0.000000e+00 | 1.0000000     | 1             | \n",
       "\n",
       "\n"
      ],
      "text/plain": [
       "       stat          pval      p.adj\n",
       "ABCA13  1.032796e+00 0.3068754 1    \n",
       "ABCA7  -2.175584e-16 1.0000000 1    \n",
       "ABCA9   0.000000e+00 1.0000000 1    \n",
       "ABCC12  5.855400e-01 0.5609277 1    \n",
       "ABCC5   5.855400e-01 0.5609277 1    \n",
       "ABCC8   0.000000e+00 1.0000000 1    "
      ]
     },
     "metadata": {},
     "output_type": "display_data"
    },
    {
     "data": {
      "text/html": [
       "<table>\n",
       "<thead><tr><th></th><th scope=col>stat</th><th scope=col>pval</th><th scope=col>p.adj</th></tr></thead>\n",
       "<tbody>\n",
       "\t<tr><th scope=row>LAMA3</th><td> 2.085144 </td><td>0.04239818</td><td>1         </td></tr>\n",
       "\t<tr><th scope=row>TG</th><td> 2.085144 </td><td>0.04239818</td><td>1         </td></tr>\n",
       "\t<tr><th scope=row>MYCBP2</th><td> 2.078461 </td><td>0.04303628</td><td>1         </td></tr>\n",
       "\t<tr><th scope=row>TYRO3</th><td>-2.025158 </td><td>0.04843186</td><td>1         </td></tr>\n",
       "\t<tr><th scope=row>PRG4</th><td> 1.759765 </td><td>0.08481953</td><td>1         </td></tr>\n",
       "\t<tr><th scope=row>RNF213</th><td> 1.759765 </td><td>0.08481953</td><td>1         </td></tr>\n",
       "</tbody>\n",
       "</table>\n"
      ],
      "text/latex": [
       "\\begin{tabular}{r|lll}\n",
       "  & stat & pval & p.adj\\\\\n",
       "\\hline\n",
       "\tLAMA3 &  2.085144  & 0.04239818 & 1         \\\\\n",
       "\tTG &  2.085144  & 0.04239818 & 1         \\\\\n",
       "\tMYCBP2 &  2.078461  & 0.04303628 & 1         \\\\\n",
       "\tTYRO3 & -2.025158  & 0.04843186 & 1         \\\\\n",
       "\tPRG4 &  1.759765  & 0.08481953 & 1         \\\\\n",
       "\tRNF213 &  1.759765  & 0.08481953 & 1         \\\\\n",
       "\\end{tabular}\n"
      ],
      "text/markdown": [
       "\n",
       "| <!--/--> | stat | pval | p.adj | \n",
       "|---|---|---|---|---|---|\n",
       "| LAMA3 |  2.085144  | 0.04239818 | 1          | \n",
       "| TG |  2.085144  | 0.04239818 | 1          | \n",
       "| MYCBP2 |  2.078461  | 0.04303628 | 1          | \n",
       "| TYRO3 | -2.025158  | 0.04843186 | 1          | \n",
       "| PRG4 |  1.759765  | 0.08481953 | 1          | \n",
       "| RNF213 |  1.759765  | 0.08481953 | 1          | \n",
       "\n",
       "\n"
      ],
      "text/plain": [
       "       stat      pval       p.adj\n",
       "LAMA3   2.085144 0.04239818 1    \n",
       "TG      2.085144 0.04239818 1    \n",
       "MYCBP2  2.078461 0.04303628 1    \n",
       "TYRO3  -2.025158 0.04843186 1    \n",
       "PRG4    1.759765 0.08481953 1    \n",
       "RNF213  1.759765 0.08481953 1    "
      ]
     },
     "metadata": {},
     "output_type": "display_data"
    },
    {
     "name": "stdout",
     "output_type": "stream",
     "text": [
      "            stat       pval p.adj\n",
      "LAMA3   2.085144 0.04239818     1\n",
      "TG      2.085144 0.04239818     1\n",
      "MYCBP2  2.078461 0.04303628     1\n",
      "TYRO3  -2.025158 0.04843186     1\n",
      "PRG4    1.759765 0.08481953     1\n",
      "[1] 0\n"
     ]
    }
   ],
   "source": [
    "# The following codes are for multitesting FDR calculations to get adjusted p-value for beta coefficient (Odds Ratio)\n",
    "\n",
    "resFrame=data.frame(stat=zVec, pval=pVec)\n",
    "resFrame$p.adj=p.adjust(resFrame$pval, method=\"fdr\")\n",
    "rownames(resFrame) = rownames(Hugo_SymbolCount)\n",
    "resFrame.s=resFrame[order(resFrame$pval),]\n",
    "head(resFrame)\n",
    "head(resFrame.s)\n",
    "\n",
    "print(resFrame.s[1:5,])\n",
    "print(sum(resFrame$p.adj<0.05))\n"
   ]
  },
  {
   "attachments": {
    "image.png": {
     "image/png": "[encoded data removed]"
    }
   },
   "cell_type": "markdown",
   "metadata": {},
   "source": [
    "### Conlusion: \n",
    "\n",
    "(1). Only 4 genes (LAMA3, TG, MYCBP2 and TYRO3) are statistical significant with drug response association if using the nominal \n",
    "     p-value before multi-testing FDR based adjustment. None of genes are statistical significant associated with drug response\n",
    "     if using the adjusted p-value.\n",
    "     \n",
    "(2). TYRO3 is the only gene (negative beta) which could be used to explain the cancer drug resistence and this result is\n",
    "     compatible with my pairwise Fisher Exact Test. The cancer drug resistence increases about 2.02 folds when TYRO3 gene \n",
    "     mutation increased one unit after controlled/fixed all other 1165 gene mutations.\n",
    "     \n",
    "(3). To look for the association between gene mutation and drug response should explore the mutation frequnce per gene rather\n",
    "     than per patient in my point. Each mis-sense mutation does contribute to the pathogenicity of mutant protein therefore I\n",
    "     decided to count the mutated gene frequence not on per patient base but on each gene base. Patient-38 contributed 12 \n",
    "     counts of KMT2C mutation events hence I did not see these 12 counts as one count but still see them as 12 counts.\n",
    "     \n",
    "(4). On page-54 and its following pages of my PhD dissertation I mentioned about the calculation of omega ratio to estimate\n",
    "     mutation rate (2.2.7 Determination of omega (ω) value, also known as dN/dS ratio or Ka/Ks ratio) and the evolutionary\n",
    "     direction (neutral or selective or positive). This might be an useful idea to be used as an index to estimate the rate of\n",
    "     tumorgenesis process. (Here is the link: https://drive.google.com/file/d/1x2Lkni3IWKUq4TBjvMX49P63P_O-8aZ4/view )\n",
    "     \n",
    "(5). I found I can estimate the experimental Minor Allele Frequency through \"t_alt_count/(t_alt_count+t_ref_count)\".\n",
    "\n",
    "Hugo_Symbol\tProtein_Change\tt_alt_count\tt_ref_count\tMAF\tReference_Allele\tTumor_Seq_Allele1\tTumor_Seq_Allele2\n",
    "ANKRD30A\tAP\t6\t111\t0.051282051\tG\tG\tC\n",
    "![image.png](attachment:image.png)\n",
    "\n",
    "     Using the above ANKRD30A as an example. The experimental MAF is equal to 0.05 which is not a common variant but a rare\n",
    "     variant (MAF<15%). We should be able to find 5 persons who bear this variant every 100 persons, but we only found 2\n",
    "     persons (both belong to non-responder group) bear this variant (position 37431050, SNP). From 1000 genome dataset this \n",
    "     SNP is a common variant therefore it seems this SNP appeared less in cancer patient because the MAF I got from this\n",
    "     dataset has smaller value.\n",
    "\n",
    "(6). There is an R package called \"glmnet\" which claimed that it could get more significant hits than R build-in GLM library.\n"
   ]
  },
  {
   "cell_type": "markdown",
   "metadata": {},
   "source": [
    "# Pairwise Fisher Exact Test (2x2 contingency table)\n",
    "(01). I first created a global dataset which merged 50 patientMAF files with SampleInformation(.tsv) file.\n",
    "(02). I trimmed the global dataset according to the instruction to remove those \"silent\" mutation type.\n",
    "(03). I sorted and counted the dataset according to \"Protein_Change\" (has converted the pattern of \"p.E234K\" to \"EK\" \n",
    "      as an example)\n",
    "      \n",
    "      Here are the top 15 results:\n",
    "          Mutatioan_Type\t\t\tTotal_Occurance_Among_All_patients_All_Genes \n",
    "                EK                      \t       1104\n",
    "                EQ\t\t\t\t\t\t            610\n",
    "                SL\t\t\t\t\t\t            490\n",
    "                DN\t\t\t\t\t\t            471\n",
    "                Q*\t\t\t\t\t\t            359\n",
    "                SF\t\t\t\t\t\t            332\n",
    "                RQ\t\t\t\t\t\t            282\n",
    "                DH\t                      \t\t\t262\n",
    "                SC\t                      \t\t\t256\n",
    "                LV\t                      \t\t\t224\n",
    "                LF\t                      \t\t\t202\n",
    "                S*\t                      \t\t\t199\n",
    "      For example, mutation type \"Glutamic Acid replaced by Lysine (E->K)\" were discovered totally 1104 counts in \n",
    "      global dataset.\n",
    "      These 1104 times including both responders group and non-responders group.\n",
    "(04). I split the global dataset into two subsets which are \n",
    "      \"Responders Group (7571 records / 5301 genes)\" and \"Non-Responders Group (3467 records / 2699 genes)\".\n",
    "      I took the intersection between these two groups to get a common shared gene list (1166 genes) between Responders \n",
    "      and Non-Responders.\n",
    "   "
   ]
  },
  {
   "cell_type": "code",
   "execution_count": 178,
   "metadata": {},
   "outputs": [
    {
     "data": {
      "text/html": [
       "'C:/Users/alextwc/Documents/JupyterNotebookFiles/R_Projects/VanallenAssessment'"
      ],
      "text/latex": [
       "'C:/Users/alextwc/Documents/JupyterNotebookFiles/R\\_Projects/VanallenAssessment'"
      ],
      "text/markdown": [
       "'C:/Users/alextwc/Documents/JupyterNotebookFiles/R_Projects/VanallenAssessment'"
      ],
      "text/plain": [
       "[1] \"C:/Users/alextwc/Documents/JupyterNotebookFiles/R_Projects/VanallenAssessment\""
      ]
     },
     "metadata": {},
     "output_type": "display_data"
    },
    {
     "data": {
      "text/html": [
       "<ol class=list-inline>\n",
       "\t<li>'20161208.R.codes13.txt'</li>\n",
       "\t<li>'Coding assessment.docx'</li>\n",
       "\t<li>'CodingAssesment.txt'</li>\n",
       "\t<li>'CodingAssesment.txt.bak'</li>\n",
       "\t<li>'CommonMutatedGenes_2019-05-23.csv'</li>\n",
       "\t<li>'FisherExactPairwise_2019-05-23.rda'</li>\n",
       "\t<li>'FisherExactPairwiseInMutationsSignificant_2019-05-23.csv'</li>\n",
       "\t<li>'FisherExactPairwiseInPatientsSignificant_2019-05-23.csv'</li>\n",
       "\t<li>'NonResponderGenesFreq.txt'</li>\n",
       "\t<li>'ProteinMutationFreq_2019-05-23.csv'</li>\n",
       "\t<li>'ProteinMutationFreq_2019-05-23.xlsx'</li>\n",
       "\t<li>'Q5.Answer.png.pdf'</li>\n",
       "\t<li>'R-codes-1.txt'</li>\n",
       "\t<li>'R-codes-2.txt'</li>\n",
       "\t<li>'R-codes-3.txt'</li>\n",
       "\t<li>'Report.txt'</li>\n",
       "\t<li>'Report3.html'</li>\n",
       "\t<li>'Report3.ipynb'</li>\n",
       "\t<li>'Report3.pdf'</li>\n",
       "\t<li>'ResponderGenesFreq.txt'</li>\n",
       "\t<li>'SignificantGeneDistribution_2019-05-23.csv'</li>\n",
       "\t<li>'SignificantGeneDistributionByPatients_2019-05-23.csv'</li>\n",
       "\t<li>'SignificantGenesAcrossTotalPatients_2019-05-23.csv'</li>\n",
       "\t<li>'TotalPatient1166MAF_2019-05-30.csv'</li>\n",
       "\t<li>'TotalPatientMAFwithoutSilentSpliceSite_2019-05-23.csv'</li>\n",
       "\t<li>'TotalPatientMAFwithoutSilentSpliceSite_2019-05-23.xlsx'</li>\n",
       "\t<li>'vanallen-assessment'</li>\n",
       "</ol>\n"
      ],
      "text/latex": [
       "\\begin{enumerate*}\n",
       "\\item '20161208.R.codes13.txt'\n",
       "\\item 'Coding assessment.docx'\n",
       "\\item 'CodingAssesment.txt'\n",
       "\\item 'CodingAssesment.txt.bak'\n",
       "\\item 'CommonMutatedGenes\\_2019-05-23.csv'\n",
       "\\item 'FisherExactPairwise\\_2019-05-23.rda'\n",
       "\\item 'FisherExactPairwiseInMutationsSignificant\\_2019-05-23.csv'\n",
       "\\item 'FisherExactPairwiseInPatientsSignificant\\_2019-05-23.csv'\n",
       "\\item 'NonResponderGenesFreq.txt'\n",
       "\\item 'ProteinMutationFreq\\_2019-05-23.csv'\n",
       "\\item 'ProteinMutationFreq\\_2019-05-23.xlsx'\n",
       "\\item 'Q5.Answer.png.pdf'\n",
       "\\item 'R-codes-1.txt'\n",
       "\\item 'R-codes-2.txt'\n",
       "\\item 'R-codes-3.txt'\n",
       "\\item 'Report.txt'\n",
       "\\item 'Report3.html'\n",
       "\\item 'Report3.ipynb'\n",
       "\\item 'Report3.pdf'\n",
       "\\item 'ResponderGenesFreq.txt'\n",
       "\\item 'SignificantGeneDistribution\\_2019-05-23.csv'\n",
       "\\item 'SignificantGeneDistributionByPatients\\_2019-05-23.csv'\n",
       "\\item 'SignificantGenesAcrossTotalPatients\\_2019-05-23.csv'\n",
       "\\item 'TotalPatient1166MAF\\_2019-05-30.csv'\n",
       "\\item 'TotalPatientMAFwithoutSilentSpliceSite\\_2019-05-23.csv'\n",
       "\\item 'TotalPatientMAFwithoutSilentSpliceSite\\_2019-05-23.xlsx'\n",
       "\\item 'vanallen-assessment'\n",
       "\\end{enumerate*}\n"
      ],
      "text/markdown": [
       "1. '20161208.R.codes13.txt'\n",
       "2. 'Coding assessment.docx'\n",
       "3. 'CodingAssesment.txt'\n",
       "4. 'CodingAssesment.txt.bak'\n",
       "5. 'CommonMutatedGenes_2019-05-23.csv'\n",
       "6. 'FisherExactPairwise_2019-05-23.rda'\n",
       "7. 'FisherExactPairwiseInMutationsSignificant_2019-05-23.csv'\n",
       "8. 'FisherExactPairwiseInPatientsSignificant_2019-05-23.csv'\n",
       "9. 'NonResponderGenesFreq.txt'\n",
       "10. 'ProteinMutationFreq_2019-05-23.csv'\n",
       "11. 'ProteinMutationFreq_2019-05-23.xlsx'\n",
       "12. 'Q5.Answer.png.pdf'\n",
       "13. 'R-codes-1.txt'\n",
       "14. 'R-codes-2.txt'\n",
       "15. 'R-codes-3.txt'\n",
       "16. 'Report.txt'\n",
       "17. 'Report3.html'\n",
       "18. 'Report3.ipynb'\n",
       "19. 'Report3.pdf'\n",
       "20. 'ResponderGenesFreq.txt'\n",
       "21. 'SignificantGeneDistribution_2019-05-23.csv'\n",
       "22. 'SignificantGeneDistributionByPatients_2019-05-23.csv'\n",
       "23. 'SignificantGenesAcrossTotalPatients_2019-05-23.csv'\n",
       "24. 'TotalPatient1166MAF_2019-05-30.csv'\n",
       "25. 'TotalPatientMAFwithoutSilentSpliceSite_2019-05-23.csv'\n",
       "26. 'TotalPatientMAFwithoutSilentSpliceSite_2019-05-23.xlsx'\n",
       "27. 'vanallen-assessment'\n",
       "\n",
       "\n"
      ],
      "text/plain": [
       " [1] \"20161208.R.codes13.txt\"                                  \n",
       " [2] \"Coding assessment.docx\"                                  \n",
       " [3] \"CodingAssesment.txt\"                                     \n",
       " [4] \"CodingAssesment.txt.bak\"                                 \n",
       " [5] \"CommonMutatedGenes_2019-05-23.csv\"                       \n",
       " [6] \"FisherExactPairwise_2019-05-23.rda\"                      \n",
       " [7] \"FisherExactPairwiseInMutationsSignificant_2019-05-23.csv\"\n",
       " [8] \"FisherExactPairwiseInPatientsSignificant_2019-05-23.csv\" \n",
       " [9] \"NonResponderGenesFreq.txt\"                               \n",
       "[10] \"ProteinMutationFreq_2019-05-23.csv\"                      \n",
       "[11] \"ProteinMutationFreq_2019-05-23.xlsx\"                     \n",
       "[12] \"Q5.Answer.png.pdf\"                                       \n",
       "[13] \"R-codes-1.txt\"                                           \n",
       "[14] \"R-codes-2.txt\"                                           \n",
       "[15] \"R-codes-3.txt\"                                           \n",
       "[16] \"Report.txt\"                                              \n",
       "[17] \"Report3.html\"                                            \n",
       "[18] \"Report3.ipynb\"                                           \n",
       "[19] \"Report3.pdf\"                                             \n",
       "[20] \"ResponderGenesFreq.txt\"                                  \n",
       "[21] \"SignificantGeneDistribution_2019-05-23.csv\"              \n",
       "[22] \"SignificantGeneDistributionByPatients_2019-05-23.csv\"    \n",
       "[23] \"SignificantGenesAcrossTotalPatients_2019-05-23.csv\"      \n",
       "[24] \"TotalPatient1166MAF_2019-05-30.csv\"                      \n",
       "[25] \"TotalPatientMAFwithoutSilentSpliceSite_2019-05-23.csv\"   \n",
       "[26] \"TotalPatientMAFwithoutSilentSpliceSite_2019-05-23.xlsx\"  \n",
       "[27] \"vanallen-assessment\"                                     "
      ]
     },
     "metadata": {},
     "output_type": "display_data"
    },
    {
     "data": {
      "text/html": [
       "<table>\n",
       "<thead><tr><th></th><th scope=col>Hugo_Symbol</th><th scope=col>Chromosome</th><th scope=col>Start_position</th><th scope=col>End_position</th><th scope=col>Variant_Classification</th><th scope=col>Variant_Type</th><th scope=col>Reference_Allele</th><th scope=col>Tumor_Seq_Allele1</th><th scope=col>Tumor_Seq_Allele2</th><th scope=col>Tumor_Sample_Barcode</th><th scope=col>Matched_Norm_Sample_Barcode</th><th scope=col>Protein_Change</th><th scope=col>t_alt_count</th><th scope=col>t_ref_count</th></tr></thead>\n",
       "<tbody>\n",
       "\t<tr><th scope=row>2</th><td>AMOT             </td><td>X                </td><td>112035152        </td><td>112035152        </td><td>Missense_Mutation</td><td>SNP              </td><td>G                </td><td>G                </td><td>C                </td><td>Patient-0-Tumor  </td><td>Patient-0-Normal </td><td>p.Q612E          </td><td> 8               </td><td> 31              </td></tr>\n",
       "\t<tr><th scope=row>3</th><td>SEMA6D           </td><td>15               </td><td> 48062786        </td><td> 48062786        </td><td>Missense_Mutation</td><td>SNP              </td><td>G                </td><td>G                </td><td>A                </td><td>Patient-0-Tumor  </td><td>Patient-0-Normal </td><td>p.A676T          </td><td> 4               </td><td> 87              </td></tr>\n",
       "\t<tr><th scope=row>4</th><td>PRR12            </td><td>19               </td><td> 50100969        </td><td> 50100969        </td><td>Missense_Mutation</td><td>SNP              </td><td>C                </td><td>C                </td><td>G                </td><td>Patient-0-Tumor  </td><td>Patient-0-Normal </td><td>p.S1126C         </td><td> 5               </td><td> 25              </td></tr>\n",
       "\t<tr><th scope=row>5</th><td>TNR              </td><td>1                </td><td>175372529        </td><td>175372529        </td><td>Silent           </td><td>SNP              </td><td>G                </td><td>G                </td><td>A                </td><td>Patient-0-Tumor  </td><td>Patient-0-Normal </td><td>p.S241S          </td><td>30               </td><td>155              </td></tr>\n",
       "\t<tr><th scope=row>6</th><td>CPA4             </td><td>7                </td><td>129944344        </td><td>129944344        </td><td>Silent           </td><td>SNP              </td><td>C                </td><td>C                </td><td>G                </td><td>Patient-0-Tumor  </td><td>Patient-0-Normal </td><td>p.A137A          </td><td>12               </td><td>100              </td></tr>\n",
       "\t<tr><th scope=row>7</th><td>SLC35E2B         </td><td>1                </td><td>  1607589        </td><td>  1607589        </td><td>Silent           </td><td>SNP              </td><td>G                </td><td>G                </td><td>A                </td><td>Patient-0-Tumor  </td><td>Patient-0-Normal </td><td>p.L124L          </td><td> 5               </td><td> 29              </td></tr>\n",
       "</tbody>\n",
       "</table>\n"
      ],
      "text/latex": [
       "\\begin{tabular}{r|llllllllllllll}\n",
       "  & Hugo\\_Symbol & Chromosome & Start\\_position & End\\_position & Variant\\_Classification & Variant\\_Type & Reference\\_Allele & Tumor\\_Seq\\_Allele1 & Tumor\\_Seq\\_Allele2 & Tumor\\_Sample\\_Barcode & Matched\\_Norm\\_Sample\\_Barcode & Protein\\_Change & t\\_alt\\_count & t\\_ref\\_count\\\\\n",
       "\\hline\n",
       "\t2 & AMOT                & X                   & 112035152           & 112035152           & Missense\\_Mutation & SNP                 & G                   & G                   & C                   & Patient-0-Tumor     & Patient-0-Normal    & p.Q612E             &  8                  &  31                \\\\\n",
       "\t3 & SEMA6D              & 15                  &  48062786           &  48062786           & Missense\\_Mutation & SNP                 & G                   & G                   & A                   & Patient-0-Tumor     & Patient-0-Normal    & p.A676T             &  4                  &  87                \\\\\n",
       "\t4 & PRR12               & 19                  &  50100969           &  50100969           & Missense\\_Mutation & SNP                 & C                   & C                   & G                   & Patient-0-Tumor     & Patient-0-Normal    & p.S1126C            &  5                  &  25                \\\\\n",
       "\t5 & TNR               & 1                 & 175372529         & 175372529         & Silent            & SNP               & G                 & G                 & A                 & Patient-0-Tumor   & Patient-0-Normal  & p.S241S           & 30                & 155              \\\\\n",
       "\t6 & CPA4              & 7                 & 129944344         & 129944344         & Silent            & SNP               & C                 & C                 & G                 & Patient-0-Tumor   & Patient-0-Normal  & p.A137A           & 12                & 100              \\\\\n",
       "\t7 & SLC35E2B          & 1                 &   1607589         &   1607589         & Silent            & SNP               & G                 & G                 & A                 & Patient-0-Tumor   & Patient-0-Normal  & p.L124L           &  5                &  29              \\\\\n",
       "\\end{tabular}\n"
      ],
      "text/markdown": [
       "\n",
       "| <!--/--> | Hugo_Symbol | Chromosome | Start_position | End_position | Variant_Classification | Variant_Type | Reference_Allele | Tumor_Seq_Allele1 | Tumor_Seq_Allele2 | Tumor_Sample_Barcode | Matched_Norm_Sample_Barcode | Protein_Change | t_alt_count | t_ref_count | \n",
       "|---|---|---|---|---|---|\n",
       "| 2 | AMOT              | X                 | 112035152         | 112035152         | Missense_Mutation | SNP               | G                 | G                 | C                 | Patient-0-Tumor   | Patient-0-Normal  | p.Q612E           |  8                |  31               | \n",
       "| 3 | SEMA6D            | 15                |  48062786         |  48062786         | Missense_Mutation | SNP               | G                 | G                 | A                 | Patient-0-Tumor   | Patient-0-Normal  | p.A676T           |  4                |  87               | \n",
       "| 4 | PRR12             | 19                |  50100969         |  50100969         | Missense_Mutation | SNP               | C                 | C                 | G                 | Patient-0-Tumor   | Patient-0-Normal  | p.S1126C          |  5                |  25               | \n",
       "| 5 | TNR               | 1                 | 175372529         | 175372529         | Silent            | SNP               | G                 | G                 | A                 | Patient-0-Tumor   | Patient-0-Normal  | p.S241S           | 30                | 155               | \n",
       "| 6 | CPA4              | 7                 | 129944344         | 129944344         | Silent            | SNP               | C                 | C                 | G                 | Patient-0-Tumor   | Patient-0-Normal  | p.A137A           | 12                | 100               | \n",
       "| 7 | SLC35E2B          | 1                 |   1607589         |   1607589         | Silent            | SNP               | G                 | G                 | A                 | Patient-0-Tumor   | Patient-0-Normal  | p.L124L           |  5                |  29               | \n",
       "\n",
       "\n"
      ],
      "text/plain": [
       "  Hugo_Symbol Chromosome Start_position End_position Variant_Classification\n",
       "2 AMOT        X          112035152      112035152    Missense_Mutation     \n",
       "3 SEMA6D      15          48062786       48062786    Missense_Mutation     \n",
       "4 PRR12       19          50100969       50100969    Missense_Mutation     \n",
       "5 TNR         1          175372529      175372529    Silent                \n",
       "6 CPA4        7          129944344      129944344    Silent                \n",
       "7 SLC35E2B    1            1607589        1607589    Silent                \n",
       "  Variant_Type Reference_Allele Tumor_Seq_Allele1 Tumor_Seq_Allele2\n",
       "2 SNP          G                G                 C                \n",
       "3 SNP          G                G                 A                \n",
       "4 SNP          C                C                 G                \n",
       "5 SNP          G                G                 A                \n",
       "6 SNP          C                C                 G                \n",
       "7 SNP          G                G                 A                \n",
       "  Tumor_Sample_Barcode Matched_Norm_Sample_Barcode Protein_Change t_alt_count\n",
       "2 Patient-0-Tumor      Patient-0-Normal            p.Q612E         8         \n",
       "3 Patient-0-Tumor      Patient-0-Normal            p.A676T         4         \n",
       "4 Patient-0-Tumor      Patient-0-Normal            p.S1126C        5         \n",
       "5 Patient-0-Tumor      Patient-0-Normal            p.S241S        30         \n",
       "6 Patient-0-Tumor      Patient-0-Normal            p.A137A        12         \n",
       "7 Patient-0-Tumor      Patient-0-Normal            p.L124L         5         \n",
       "  t_ref_count\n",
       "2  31        \n",
       "3  87        \n",
       "4  25        \n",
       "5 155        \n",
       "6 100        \n",
       "7  29        "
      ]
     },
     "metadata": {},
     "output_type": "display_data"
    },
    {
     "data": {
      "text/html": [
       "<ol class=list-inline>\n",
       "\t<li>15673</li>\n",
       "\t<li>14</li>\n",
       "</ol>\n"
      ],
      "text/latex": [
       "\\begin{enumerate*}\n",
       "\\item 15673\n",
       "\\item 14\n",
       "\\end{enumerate*}\n"
      ],
      "text/markdown": [
       "1. 15673\n",
       "2. 14\n",
       "\n",
       "\n"
      ],
      "text/plain": [
       "[1] 15673    14"
      ]
     },
     "metadata": {},
     "output_type": "display_data"
    }
   ],
   "source": [
    "# To set up the working directory and path\n",
    "\n",
    "library(plyr)\n",
    "set.seed(12345)\n",
    "d <- Sys.Date()\n",
    "base.dir <- \"C:/Users/alextwc/Documents/JupyterNotebookFiles/R_Projects/VanallenAssessment/\";\n",
    "setwd(base.dir)\n",
    "getwd()\n",
    "dir()\n",
    "SampleInformation <- read.table(\"./vanallen-assessment/sample-information.tsv\", sep=\"\\t\", header = TRUE, stringsAsFactors = FALSE)\n",
    "setwd(\"./vanallen-assessment/mafs\")              \n",
    "List_TotalPatientSomaticMAF <- dir()\n",
    "setwd(base.dir)\n",
    "\n",
    "# To create a global dataset which merged 50 patient MAF files\n",
    "\n",
    "TotalPatientMAF <- 0 \n",
    "for(i in List_TotalPatientSomaticMAF){\n",
    "  filepath=paste(\"./vanallen-assessment/mafs/\", i, sep=\"\")\n",
    "  TempFile <- read.table(filepath, sep=\"\\t\", header = TRUE, stringsAsFactors = FALSE)\n",
    "  TotalPatientMAF <- rbind(TotalPatientMAF,TempFile)\n",
    "}\n",
    "# head(TotalPatientMAF)\n",
    "# dim(TotalPatientMAF)\n",
    "TotalPatientMAF <- TotalPatientMAF[-c(1),]\n",
    "#/* AllColumnZero <- TotalPatientMAF[(rowSums(TotalPatientMAF==0.0) == ncol(TotalPatientMAF)),] */\n",
    "#/* which(TotalPatientMAF$Hugo_Symbol==0, arr.ind=TRUE)                                         */\n",
    "\n",
    "head(TotalPatientMAF)\n",
    "dim(TotalPatientMAF)\n",
    "\n",
    "# Finished the construction of global dataset which contains 15673 gene mutation records across 50 cancer patients"
   ]
  },
  {
   "cell_type": "code",
   "execution_count": 179,
   "metadata": {},
   "outputs": [
    {
     "data": {
      "text/html": [
       "<ol class=list-inline>\n",
       "\t<li>15673</li>\n",
       "\t<li>14</li>\n",
       "</ol>\n"
      ],
      "text/latex": [
       "\\begin{enumerate*}\n",
       "\\item 15673\n",
       "\\item 14\n",
       "\\end{enumerate*}\n"
      ],
      "text/markdown": [
       "1. 15673\n",
       "2. 14\n",
       "\n",
       "\n"
      ],
      "text/plain": [
       "[1] 15673    14"
      ]
     },
     "metadata": {},
     "output_type": "display_data"
    },
    {
     "data": {
      "text/html": [
       "<ol class=list-inline>\n",
       "\t<li>4426</li>\n",
       "\t<li>14</li>\n",
       "</ol>\n"
      ],
      "text/latex": [
       "\\begin{enumerate*}\n",
       "\\item 4426\n",
       "\\item 14\n",
       "\\end{enumerate*}\n"
      ],
      "text/markdown": [
       "1. 4426\n",
       "2. 14\n",
       "\n",
       "\n"
      ],
      "text/plain": [
       "[1] 4426   14"
      ]
     },
     "metadata": {},
     "output_type": "display_data"
    },
    {
     "data": {
      "text/html": [
       "<ol class=list-inline>\n",
       "\t<li>11247</li>\n",
       "\t<li>20</li>\n",
       "</ol>\n"
      ],
      "text/latex": [
       "\\begin{enumerate*}\n",
       "\\item 11247\n",
       "\\item 20\n",
       "\\end{enumerate*}\n"
      ],
      "text/markdown": [
       "1. 11247\n",
       "2. 20\n",
       "\n",
       "\n"
      ],
      "text/plain": [
       "[1] 11247    20"
      ]
     },
     "metadata": {},
     "output_type": "display_data"
    },
    {
     "data": {
      "text/html": [
       "<ol class=list-inline>\n",
       "\t<li>'KMT2C'</li>\n",
       "\t<li>'TTN'</li>\n",
       "\t<li>'ERBB4'</li>\n",
       "\t<li>'KMT2D'</li>\n",
       "\t<li>'TP53'</li>\n",
       "\t<li>'MUC16'</li>\n",
       "</ol>\n"
      ],
      "text/latex": [
       "\\begin{enumerate*}\n",
       "\\item 'KMT2C'\n",
       "\\item 'TTN'\n",
       "\\item 'ERBB4'\n",
       "\\item 'KMT2D'\n",
       "\\item 'TP53'\n",
       "\\item 'MUC16'\n",
       "\\end{enumerate*}\n"
      ],
      "text/markdown": [
       "1. 'KMT2C'\n",
       "2. 'TTN'\n",
       "3. 'ERBB4'\n",
       "4. 'KMT2D'\n",
       "5. 'TP53'\n",
       "6. 'MUC16'\n",
       "\n",
       "\n"
      ],
      "text/plain": [
       "[1] \"KMT2C\" \"TTN\"   \"ERBB4\" \"KMT2D\" \"TP53\"  \"MUC16\""
      ]
     },
     "metadata": {},
     "output_type": "display_data"
    },
    {
     "data": {
      "text/html": [
       "1166"
      ],
      "text/latex": [
       "1166"
      ],
      "text/markdown": [
       "1166"
      ],
      "text/plain": [
       "[1] 1166"
      ]
     },
     "metadata": {},
     "output_type": "display_data"
    }
   ],
   "source": [
    "# To remove the silent mutations\n",
    "# To merge with \"SampleInformation\" file\n",
    "# To remove the \"Splice_Site_Mutation\"\n",
    "\n",
    "TotalSilent <- subset(TotalPatientMAF, Variant_Classification==\"Silent\")\n",
    "TotalPatientMAFwithoutSilent <- TotalPatientMAF[setdiff(rownames(TotalPatientMAF), rownames(TotalSilent)),]\n",
    "TotalPatientMAFwithoutSilent <- merge(TotalPatientMAFwithoutSilent, SampleInformation, by=\"Tumor_Sample_Barcode\")\n",
    "dim(TotalPatientMAF)\n",
    "dim(TotalSilent)\n",
    "dim(TotalPatientMAFwithoutSilent)\n",
    "#/* levels(factor(TotalPatientMAFwithoutSilent$Protein_Change)) */\n",
    "#library(plyr)\n",
    "\n",
    "TotalPatientMAFwithoutSilent <- TotalPatientMAF[setdiff(rownames(TotalPatientMAF), rownames(TotalSilent)),]\n",
    "TotalPatientMAFwithoutSilent$Protein_Change[which(TotalPatientMAFwithoutSilent$Protein_Change==\"\")] <- \"Splice_Site_Mutation\"\n",
    "SpliceSiteMutation <- subset(TotalPatientMAFwithoutSilent, Protein_Change==\"Splice_Site_Mutation\")\n",
    "TotalPatientMAFwithoutSilentSpliceSite <- TotalPatientMAFwithoutSilent[setdiff(rownames(TotalPatientMAFwithoutSilent), rownames(SpliceSiteMutation)), ]\n",
    "TotalPatientMAFwithoutSilentSpliceSite <- merge(TotalPatientMAFwithoutSilentSpliceSite, SampleInformation, by=\"Tumor_Sample_Barcode\")\n",
    "TotalPatientMAFwithoutSilentSpliceSite$Protein_Change <- gsub(\"^..\", \"\", TotalPatientMAFwithoutSilentSpliceSite$Protein_Change)\n",
    "TotalPatientMAFwithoutSilentSpliceSite$Protein_Change <- gsub(\"\\\\d+\", \"\", TotalPatientMAFwithoutSilentSpliceSite$Protein_Change)\n",
    "tmp <- count(TotalPatientMAFwithoutSilentSpliceSite, 'Protein_Change')\n",
    "tmp <- tmp[order(-(tmp$freq)),]\n",
    "# write.csv(tmp, file=paste(\"./ProteinMutationFreq_\", d, \".csv\", sep=\"\"), row.names=FALSE)\n",
    "# write.csv(TotalPatientMAFwithoutSilentSpliceSite, file=paste(\"./TotalPatientMAFwithoutSilentSpliceSite_\", d, \".csv\", sep=\"\"), row.names=FALSE)\n",
    "colnames(tmp)[2] <- \"ProteinMutationFreq\"\n",
    "TotalPatientMAFwithoutSilentSpliceSite <- merge(TotalPatientMAFwithoutSilentSpliceSite, tmp, by=\"Protein_Change\")\n",
    "Responder <- subset(TotalPatientMAFwithoutSilentSpliceSite, Response==\"Responder\")\n",
    "NonResponder <- subset(TotalPatientMAFwithoutSilentSpliceSite, Response==\"Non-Responder\")\n",
    "ResGenesFreq <- count(Responder, 'Hugo_Symbol')\n",
    "NonResGenesFreq <- count(NonResponder, 'Hugo_Symbol')\n",
    "ResGenesFreq <- ResGenesFreq[order(-(ResGenesFreq$freq)), ]\n",
    "NonResGenesFreq <- NonResGenesFreq[order(-(NonResGenesFreq$freq)), ]\n",
    "xx <- intersect(ResGenesFreq$Hugo_Symbol, NonResGenesFreq$Hugo_Symbol)\n",
    "head(xx)\n",
    "length(xx)\n",
    "\n",
    "# There are 1166 common shared mutated genes between responder and non-responder groups"
   ]
  },
  {
   "cell_type": "code",
   "execution_count": 180,
   "metadata": {},
   "outputs": [
    {
     "data": {
      "text/html": [
       "<table>\n",
       "<thead><tr><th scope=col>Hugo_Symbol</th><th scope=col>CountInResponder</th><th scope=col>CountInNonResponder</th></tr></thead>\n",
       "<tbody>\n",
       "\t<tr><td>ABCA13</td><td>3     </td><td>1     </td></tr>\n",
       "\t<tr><td>ABCA7 </td><td>2     </td><td>2     </td></tr>\n",
       "\t<tr><td>ABCA9 </td><td>1     </td><td>1     </td></tr>\n",
       "\t<tr><td>ABCC12</td><td>2     </td><td>1     </td></tr>\n",
       "\t<tr><td>ABCC5 </td><td>2     </td><td>1     </td></tr>\n",
       "\t<tr><td>ABCC8 </td><td>2     </td><td>2     </td></tr>\n",
       "</tbody>\n",
       "</table>\n"
      ],
      "text/latex": [
       "\\begin{tabular}{r|lll}\n",
       " Hugo\\_Symbol & CountInResponder & CountInNonResponder\\\\\n",
       "\\hline\n",
       "\t ABCA13 & 3      & 1     \\\\\n",
       "\t ABCA7  & 2      & 2     \\\\\n",
       "\t ABCA9  & 1      & 1     \\\\\n",
       "\t ABCC12 & 2      & 1     \\\\\n",
       "\t ABCC5  & 2      & 1     \\\\\n",
       "\t ABCC8  & 2      & 2     \\\\\n",
       "\\end{tabular}\n"
      ],
      "text/markdown": [
       "\n",
       "Hugo_Symbol | CountInResponder | CountInNonResponder | \n",
       "|---|---|---|---|---|---|\n",
       "| ABCA13 | 3      | 1      | \n",
       "| ABCA7  | 2      | 2      | \n",
       "| ABCA9  | 1      | 1      | \n",
       "| ABCC12 | 2      | 1      | \n",
       "| ABCC5  | 2      | 1      | \n",
       "| ABCC8  | 2      | 2      | \n",
       "\n",
       "\n"
      ],
      "text/plain": [
       "  Hugo_Symbol CountInResponder CountInNonResponder\n",
       "1 ABCA13      3                1                  \n",
       "2 ABCA7       2                2                  \n",
       "3 ABCA9       1                1                  \n",
       "4 ABCC12      2                1                  \n",
       "5 ABCC5       2                1                  \n",
       "6 ABCC8       2                2                  "
      ]
     },
     "metadata": {},
     "output_type": "display_data"
    }
   ],
   "source": [
    "# I split the global dataset into two subsets which are \"Responders Group (7571 records / 5301 genes)\" and \n",
    "# \"Non-Responders Group (3467 records / 2699 genes)\".\n",
    "# I took the intersection between these two groups to get a common shared gene list (1166 genes) between Responders \n",
    "# and Non-Responders.\n",
    "# I counted the frequency of these 1166 genes in both Responders and Non-Responders groups to get a new dataset \n",
    "# which would be viewed like the followings \n",
    "\n",
    "colnames(ResGenesFreq)[2] <- \"CountInResponder\"\n",
    "colnames(NonResGenesFreq)[2] <- \"CountInNonResponder\"\n",
    "rownames(ResGenesFreq) <- ResGenesFreq[, 1]\n",
    "rownames(NonResGenesFreq) <- NonResGenesFreq[, 1]\n",
    "com1 <- ResGenesFreq[intersect(rownames(ResGenesFreq), rownames(NonResGenesFreq)), ]\n",
    "com2 <- NonResGenesFreq[intersect(rownames(ResGenesFreq), rownames(NonResGenesFreq)), ]\n",
    "com  <- merge(com1, com2, by=\"Hugo_Symbol\")\n",
    "head(com)\n",
    "\n",
    "# Finished creating the mutation frequency counts between responder and non-responder groups \n",
    "# write.csv(com, file=paste(\"./CommonMutatedGenes_\", d, \".csv\", sep=\"\"), row.names=FALSE)"
   ]
  },
  {
   "cell_type": "code",
   "execution_count": 181,
   "metadata": {},
   "outputs": [
    {
     "data": {
      "text/plain": [
       "\n",
       "\tFisher's Exact Test for Count Data\n",
       "\n",
       "data:  Enrichment\n",
       "p-value = 2.61e-06\n",
       "alternative hypothesis: true odds ratio is not equal to 1\n",
       "95 percent confidence interval:\n",
       "    8.274958 7890.233921\n",
       "sample estimates:\n",
       "odds ratio \n",
       "  118.3015 \n"
      ]
     },
     "metadata": {},
     "output_type": "display_data"
    }
   ],
   "source": [
    "# Here is an example of running pairwise fisher exact test\n",
    "# I choose \"KMT2C\" and \"TYRO3\" as a paired gene set to run Fisher Exact Test\n",
    "\n",
    "Enrichment <- matrix(c(com[com$Hugo_Symbol==\"KMT2C\",2], com[com$Hugo_Symbol==\"TYRO3\",2],\n",
    "                       com[com$Hugo_Symbol==\"KMT2C\",3], com[com$Hugo_Symbol==\"TYRO3\",3]), \n",
    "                       nrow=2, dimnames=list(c(\"KMT2C\", \"TYRO3\"), c(\"CountInResponder\", \"CountInNonResponder\")))\n",
    "fisher.test(Enrichment)\n",
    "\n",
    "# Using the above example we knew the paired genes (KMT2C:TYRO3) have significant different distribution between \n",
    "# Responders and Non-Responders groups. We can also run logistic regression under generalized linear model to test \n",
    "# significant linearity and to get OR which is the beta value in such a case.\n",
    "# Through Fisher Exact Test now we know the chance of KMT2C genes appeared in Responders group versus not appeared in \n",
    "# Responders group is 118.3 folds higher than TYRO3 gene.\n",
    "# You can also say TYRO3 gene favored to appear in Non-Responders group as well. So we found the KMT2C gene has an \n",
    "# enrichment in Responders group with respect to TYRO3 genes in Responders group. "
   ]
  },
  {
   "cell_type": "code",
   "execution_count": 171,
   "metadata": {},
   "outputs": [],
   "source": [
    "# The following codes will run \"pairwise fisher exact test\"\n",
    "# The codes will run (1166-genes X 1166-genes = 1166^2) 1359556 times of testing to get a huge table contained \n",
    "# the entire simulated p-values. I set up the p-value has to be smaller than 0.05 to filtered out the in-significant \n",
    "# records from result talbe. The final result contains 1064 significant paired gene sets.\n",
    "# My computer took more than 8 hours to run so I am not going to run the codes here to demonstrate the accuracy of codes\n",
    "# Instead I will use my previous running results to show the conclusions\n",
    "# The previous result has been saved in a file named \"FisherExactPairwiseInMutationsSignificant_2019-05-23.csv\"\n",
    "\n",
    "# /* FisherExactPairwise <- data.frame(\"gene1\" = \"0\", \"gene2\" = \"0\", \"FisherExactTest.p_value\" = 0, stringsAsFactors=FALSE) */\n",
    "# gene1 <- \"0\"\n",
    "# gene2 <- \"0\"\n",
    "# FisherExactTest.p_value <- 0\n",
    "# for (i in 1:nrow(com))  {\n",
    "#   for (j in 1:nrow(com)){\n",
    "#   Enrichment <-\n",
    "#    matrix(c(com[i,2],com[j,2],com[i,3],com[j,3]), nrow = 2, dimnames =\n",
    "#             list(c(com[i,1], com[j,1]),\n",
    "#                  c(\"CountInResponder\", \"CountInNonResponder\")))\n",
    "#   gene1 <- append(gene1,com[i,1])\n",
    "#   gene2 <- append(gene2,com[j,1])\n",
    "#   FisherExactTest.p_value <- append(FisherExactTest.p_value, fisher.test(Enrichment)$p.value) \n",
    "#   }\n",
    "# }\n",
    "#\n",
    "# FisherExactPairwise <- data.frame(\"gene1\" = gene1, \"gene2\" = gene2, \"FisherExactTest.p_value\" = FisherExactTest.p_value, stringsAsFactors=FALSE)\n",
    "# FisherExactPairwise <- FisherExactPairwise[-c(1),]\n",
    "# save(FisherExactPairwise, file=paste(\"./FisherExactPairwise_\", d, \".rda\", sep=\"\"))\n",
    "# FisherExactPairwiseSignificant <- FisherExactPairwise[which(FisherExactPairwise$FisherExactTest.p_value<=0.05), ]\n",
    "# FisherExactPairwiseSignificant <- FisherExactPairwiseSignificant[order(FisherExactPairwiseSignificant$FisherExactTest.p_value), ]\n",
    "# write.csv(FisherExactPairwiseSignificant, file=paste(\"./FisherExactPairwiseSignificant_\", d, \".csv\", sep=\"\"), row.names=FALSE)"
   ]
  },
  {
   "cell_type": "code",
   "execution_count": 182,
   "metadata": {},
   "outputs": [
    {
     "data": {
      "text/html": [
       "<table>\n",
       "<thead><tr><th scope=col>gene1</th><th scope=col>gene2</th><th scope=col>FisherExactTest.p_value</th></tr></thead>\n",
       "<tbody>\n",
       "\t<tr><td>KMT2C       </td><td>TYRO3       </td><td>2.610062e-06</td></tr>\n",
       "\t<tr><td>TYRO3       </td><td>KMT2C       </td><td>2.610062e-06</td></tr>\n",
       "\t<tr><td>KMT2C       </td><td>SPEN        </td><td>6.386208e-06</td></tr>\n",
       "\t<tr><td>SPEN        </td><td>KMT2C       </td><td>6.386208e-06</td></tr>\n",
       "\t<tr><td>IRS4        </td><td>KMT2C       </td><td>5.180005e-05</td></tr>\n",
       "\t<tr><td>KMT2C       </td><td>IRS4        </td><td>5.180005e-05</td></tr>\n",
       "\t<tr><td>TP53        </td><td>KMT2C       </td><td>1.415959e-04</td></tr>\n",
       "\t<tr><td>KMT2C       </td><td>TP53        </td><td>1.415959e-04</td></tr>\n",
       "\t<tr><td>FBLN1       </td><td>KMT2C       </td><td>1.587784e-04</td></tr>\n",
       "\t<tr><td>KMT2C       </td><td>FBLN1       </td><td>1.587784e-04</td></tr>\n",
       "</tbody>\n",
       "</table>\n"
      ],
      "text/latex": [
       "\\begin{tabular}{r|lll}\n",
       " gene1 & gene2 & FisherExactTest.p\\_value\\\\\n",
       "\\hline\n",
       "\t KMT2C        & TYRO3        & 2.610062e-06\\\\\n",
       "\t TYRO3        & KMT2C        & 2.610062e-06\\\\\n",
       "\t KMT2C        & SPEN         & 6.386208e-06\\\\\n",
       "\t SPEN         & KMT2C        & 6.386208e-06\\\\\n",
       "\t IRS4         & KMT2C        & 5.180005e-05\\\\\n",
       "\t KMT2C        & IRS4         & 5.180005e-05\\\\\n",
       "\t TP53         & KMT2C        & 1.415959e-04\\\\\n",
       "\t KMT2C        & TP53         & 1.415959e-04\\\\\n",
       "\t FBLN1        & KMT2C        & 1.587784e-04\\\\\n",
       "\t KMT2C        & FBLN1        & 1.587784e-04\\\\\n",
       "\\end{tabular}\n"
      ],
      "text/markdown": [
       "\n",
       "gene1 | gene2 | FisherExactTest.p_value | \n",
       "|---|---|---|---|---|---|---|---|---|---|\n",
       "| KMT2C        | TYRO3        | 2.610062e-06 | \n",
       "| TYRO3        | KMT2C        | 2.610062e-06 | \n",
       "| KMT2C        | SPEN         | 6.386208e-06 | \n",
       "| SPEN         | KMT2C        | 6.386208e-06 | \n",
       "| IRS4         | KMT2C        | 5.180005e-05 | \n",
       "| KMT2C        | IRS4         | 5.180005e-05 | \n",
       "| TP53         | KMT2C        | 1.415959e-04 | \n",
       "| KMT2C        | TP53         | 1.415959e-04 | \n",
       "| FBLN1        | KMT2C        | 1.587784e-04 | \n",
       "| KMT2C        | FBLN1        | 1.587784e-04 | \n",
       "\n",
       "\n"
      ],
      "text/plain": [
       "   gene1 gene2 FisherExactTest.p_value\n",
       "1  KMT2C TYRO3 2.610062e-06           \n",
       "2  TYRO3 KMT2C 2.610062e-06           \n",
       "3  KMT2C SPEN  6.386208e-06           \n",
       "4  SPEN  KMT2C 6.386208e-06           \n",
       "5  IRS4  KMT2C 5.180005e-05           \n",
       "6  KMT2C IRS4  5.180005e-05           \n",
       "7  TP53  KMT2C 1.415959e-04           \n",
       "8  KMT2C TP53  1.415959e-04           \n",
       "9  FBLN1 KMT2C 1.587784e-04           \n",
       "10 KMT2C FBLN1 1.587784e-04           "
      ]
     },
     "metadata": {},
     "output_type": "display_data"
    },
    {
     "data": {
      "text/html": [
       "331"
      ],
      "text/latex": [
       "331"
      ],
      "text/markdown": [
       "331"
      ],
      "text/plain": [
       "[1] 331"
      ]
     },
     "metadata": {},
     "output_type": "display_data"
    },
    {
     "data": {
      "text/html": [
       "331"
      ],
      "text/latex": [
       "331"
      ],
      "text/markdown": [
       "331"
      ],
      "text/plain": [
       "[1] 331"
      ]
     },
     "metadata": {},
     "output_type": "display_data"
    }
   ],
   "source": [
    "# There are totally 331 significant paired gene sets through Fisher Exact Test \n",
    "\n",
    "FisherExactPairwiseByMutations <- read.csv(\"./FisherExactPairwiseInMutationsSignificant_2019-05-23.csv\", header=T, check.names=FALSE, stringsAsFactors=FALSE)\n",
    "head(FisherExactPairwiseByMutations, 10)\n",
    "length(levels(factor(FisherExactPairwiseByMutations$gene1)))\n",
    "length(levels(factor(FisherExactPairwiseByMutations$gene2)))\n",
    "\n",
    "# The following result indicated mutations happened on gene \"KMT2C, TYRO3, SPEN\" ..... have significant different statistical\n",
    "# distribution between responder and non-responder groups"
   ]
  },
  {
   "cell_type": "code",
   "execution_count": 183,
   "metadata": {},
   "outputs": [
    {
     "data": {
      "text/html": [
       "<table>\n",
       "<thead><tr><th scope=col>SigGeneList</th><th scope=col>ResponderCounts</th><th scope=col>NonResponderCounts</th><th scope=col>MutationsInResponders</th><th scope=col>MutationsInNonResponders</th></tr></thead>\n",
       "<tbody>\n",
       "\t<tr><td>ABCA13  </td><td>3       </td><td>1       </td><td>3       </td><td>1       </td></tr>\n",
       "\t<tr><td>ABCF1   </td><td>2       </td><td>1       </td><td>3       </td><td>1       </td></tr>\n",
       "\t<tr><td>ACACB   </td><td>3       </td><td>1       </td><td>3       </td><td>1       </td></tr>\n",
       "\t<tr><td>ACIN1   </td><td>2       </td><td>3       </td><td>6       </td><td>3       </td></tr>\n",
       "\t<tr><td>ADAM21  </td><td>3       </td><td>1       </td><td>3       </td><td>1       </td></tr>\n",
       "\t<tr><td>AGO3    </td><td>4       </td><td>1       </td><td>4       </td><td>1       </td></tr>\n",
       "\t<tr><td>AHNAK2  </td><td>4       </td><td>2       </td><td>5       </td><td>2       </td></tr>\n",
       "\t<tr><td>ALMS1   </td><td>4       </td><td>2       </td><td>4       </td><td>2       </td></tr>\n",
       "\t<tr><td>ANKRD30A</td><td>2       </td><td>5       </td><td>2       </td><td>5       </td></tr>\n",
       "\t<tr><td>APOB    </td><td>3       </td><td>1       </td><td>3       </td><td>1       </td></tr>\n",
       "</tbody>\n",
       "</table>\n"
      ],
      "text/latex": [
       "\\begin{tabular}{r|lllll}\n",
       " SigGeneList & ResponderCounts & NonResponderCounts & MutationsInResponders & MutationsInNonResponders\\\\\n",
       "\\hline\n",
       "\t ABCA13   & 3        & 1        & 3        & 1       \\\\\n",
       "\t ABCF1    & 2        & 1        & 3        & 1       \\\\\n",
       "\t ACACB    & 3        & 1        & 3        & 1       \\\\\n",
       "\t ACIN1    & 2        & 3        & 6        & 3       \\\\\n",
       "\t ADAM21   & 3        & 1        & 3        & 1       \\\\\n",
       "\t AGO3     & 4        & 1        & 4        & 1       \\\\\n",
       "\t AHNAK2   & 4        & 2        & 5        & 2       \\\\\n",
       "\t ALMS1    & 4        & 2        & 4        & 2       \\\\\n",
       "\t ANKRD30A & 2        & 5        & 2        & 5       \\\\\n",
       "\t APOB     & 3        & 1        & 3        & 1       \\\\\n",
       "\\end{tabular}\n"
      ],
      "text/markdown": [
       "\n",
       "SigGeneList | ResponderCounts | NonResponderCounts | MutationsInResponders | MutationsInNonResponders | \n",
       "|---|---|---|---|---|---|---|---|---|---|\n",
       "| ABCA13   | 3        | 1        | 3        | 1        | \n",
       "| ABCF1    | 2        | 1        | 3        | 1        | \n",
       "| ACACB    | 3        | 1        | 3        | 1        | \n",
       "| ACIN1    | 2        | 3        | 6        | 3        | \n",
       "| ADAM21   | 3        | 1        | 3        | 1        | \n",
       "| AGO3     | 4        | 1        | 4        | 1        | \n",
       "| AHNAK2   | 4        | 2        | 5        | 2        | \n",
       "| ALMS1    | 4        | 2        | 4        | 2        | \n",
       "| ANKRD30A | 2        | 5        | 2        | 5        | \n",
       "| APOB     | 3        | 1        | 3        | 1        | \n",
       "\n",
       "\n"
      ],
      "text/plain": [
       "   SigGeneList ResponderCounts NonResponderCounts MutationsInResponders\n",
       "1  ABCA13      3               1                  3                    \n",
       "2  ABCF1       2               1                  3                    \n",
       "3  ACACB       3               1                  3                    \n",
       "4  ACIN1       2               3                  6                    \n",
       "5  ADAM21      3               1                  3                    \n",
       "6  AGO3        4               1                  4                    \n",
       "7  AHNAK2      4               2                  5                    \n",
       "8  ALMS1       4               2                  4                    \n",
       "9  ANKRD30A    2               5                  2                    \n",
       "10 APOB        3               1                  3                    \n",
       "   MutationsInNonResponders\n",
       "1  1                       \n",
       "2  1                       \n",
       "3  1                       \n",
       "4  3                       \n",
       "5  1                       \n",
       "6  1                       \n",
       "7  2                       \n",
       "8  2                       \n",
       "9  5                       \n",
       "10 1                       "
      ]
     },
     "metadata": {},
     "output_type": "display_data"
    }
   ],
   "source": [
    "# The folloiwng codes count the same gene mutation records on same patient\n",
    "\n",
    "SignificantGeneList <- levels(factor(FisherExactPairwiseByMutations$gene1))\n",
    "ResponderSignificantGenes <- subset(Responder, (Responder$Hugo_Symbol %in% SignificantGeneList))\n",
    "ResponderSignificantGenes <- ResponderSignificantGenes[order(ResponderSignificantGenes$Patient_ID),]    \n",
    "NonResponderSignificantGenes <- subset(NonResponder, (NonResponder$Hugo_Symbol %in% SignificantGeneList))\n",
    "NonResponderSignificantGenes <- NonResponderSignificantGenes[order(NonResponderSignificantGenes$Patient_ID),]\n",
    "ResponderSignificantGenes <- ResponderSignificantGenes[with(ResponderSignificantGenes, order(Patient_ID,Hugo_Symbol)), ]\n",
    "NonResponderSignificantGenes <- NonResponderSignificantGenes[with(NonResponderSignificantGenes, order(Patient_ID,Hugo_Symbol)), ]\n",
    "\n",
    "CountResponders <- 0\n",
    "for(i in 1:length(SignificantGeneList)) {\n",
    "  tmp <- subset(ResponderSignificantGenes, (ResponderSignificantGenes$Hugo_Symbol %in% SignificantGeneList[i]))\n",
    "  CountResponders <- append(CountResponders,length(levels(factor(tmp$Patient_ID))))\n",
    "}\n",
    "CountResponders <- CountResponders[-1]\n",
    "\n",
    "CountNonResponders <- 0\n",
    "for(i in 1:length(SignificantGeneList)) {\n",
    "  tmp <- subset(NonResponderSignificantGenes, (NonResponderSignificantGenes$Hugo_Symbol %in% SignificantGeneList[i]))\n",
    "  CountNonResponders <- append(CountNonResponders,length(levels(factor(tmp$Patient_ID))))\n",
    "}\n",
    "CountNonResponders <- CountNonResponders[-1]\n",
    "\n",
    "SignificantGeneDistribution <- data.frame(\"SigGeneList\" = SignificantGeneList, \"ResponderCounts\" = CountResponders, \"NonResponderCounts\" = CountNonResponders, stringsAsFactors=FALSE)\n",
    "SignificantCom <- subset(com, (com$Hugo_Symbol %in% SignificantGeneList))\n",
    "\n",
    "SignificantGeneDistribution <- merge(SignificantGeneDistribution, SignificantCom, by.x=c(\"SigGeneList\"), by.y=c(\"Hugo_Symbol\"), all.x=TRUE)\n",
    "names(SignificantGeneDistribution) <- c(\"SigGeneList\",\"ResponderCounts\", \"NonResponderCounts\", \"MutationsInResponders\", \"MutationsInNonResponders\")\n",
    "head(SignificantGeneDistribution,10)\n",
    "\n",
    "# The following result is a summary table for the gene mutation records counted either by mutation frequency or \n",
    "# by patient quantity. For example, ABCA13 gene has 3 mutation records on different 3 patients who all belong to responder\n",
    "# group while the ABCF1 gene has 3 mutation records but belong to only 2 responders\n",
    "# I want to use those first two columns (ResponderCounts vs. NonResponderCounts) of this table to re-run Fisher Exact Test "
   ]
  },
  {
   "cell_type": "code",
   "execution_count": 184,
   "metadata": {},
   "outputs": [
    {
     "data": {
      "text/html": [
       "<table>\n",
       "<thead><tr><th></th><th scope=col>SigGeneList</th><th scope=col>ResponderCounts</th><th scope=col>NonResponderCounts</th><th scope=col>MutationsInResponders</th><th scope=col>MutationsInNonResponders</th></tr></thead>\n",
       "<tbody>\n",
       "\t<tr><th scope=row>9</th><td>ANKRD30A</td><td> 2      </td><td> 5      </td><td> 2      </td><td> 5      </td></tr>\n",
       "\t<tr><th scope=row>136</th><td>KMT2C   </td><td> 7      </td><td> 1      </td><td>19      </td><td> 1      </td></tr>\n",
       "\t<tr><th scope=row>143</th><td>LAMA3   </td><td> 6      </td><td> 1      </td><td> 6      </td><td> 1      </td></tr>\n",
       "\t<tr><th scope=row>163</th><td>MUC5B   </td><td> 1      </td><td> 4      </td><td> 1      </td><td> 4      </td></tr>\n",
       "\t<tr><th scope=row>165</th><td>MYCBP2  </td><td> 6      </td><td> 1      </td><td> 7      </td><td> 1      </td></tr>\n",
       "\t<tr><th scope=row>233</th><td>RICTOR  </td><td> 1      </td><td> 4      </td><td> 1      </td><td> 4      </td></tr>\n",
       "\t<tr><th scope=row>266</th><td>SYNE1   </td><td> 7      </td><td> 2      </td><td> 9      </td><td> 3      </td></tr>\n",
       "\t<tr><th scope=row>274</th><td>TG      </td><td> 6      </td><td> 1      </td><td> 6      </td><td> 1      </td></tr>\n",
       "\t<tr><th scope=row>277</th><td>TP53    </td><td> 9      </td><td>13      </td><td>11      </td><td>16      </td></tr>\n",
       "\t<tr><th scope=row>281</th><td>TTN     </td><td>12      </td><td>15      </td><td>19      </td><td>22      </td></tr>\n",
       "\t<tr><th scope=row>282</th><td>TYRO3   </td><td> 1      </td><td> 5      </td><td> 1      </td><td>10      </td></tr>\n",
       "\t<tr><th scope=row>285</th><td>UBR5    </td><td> 2      </td><td> 5      </td><td> 2      </td><td> 5      </td></tr>\n",
       "</tbody>\n",
       "</table>\n"
      ],
      "text/latex": [
       "\\begin{tabular}{r|lllll}\n",
       "  & SigGeneList & ResponderCounts & NonResponderCounts & MutationsInResponders & MutationsInNonResponders\\\\\n",
       "\\hline\n",
       "\t9 & ANKRD30A &  2       &  5       &  2       &  5      \\\\\n",
       "\t136 & KMT2C    &  7       &  1       & 19       &  1      \\\\\n",
       "\t143 & LAMA3    &  6       &  1       &  6       &  1      \\\\\n",
       "\t163 & MUC5B    &  1       &  4       &  1       &  4      \\\\\n",
       "\t165 & MYCBP2   &  6       &  1       &  7       &  1      \\\\\n",
       "\t233 & RICTOR   &  1       &  4       &  1       &  4      \\\\\n",
       "\t266 & SYNE1    &  7       &  2       &  9       &  3      \\\\\n",
       "\t274 & TG       &  6       &  1       &  6       &  1      \\\\\n",
       "\t277 & TP53     &  9       & 13       & 11       & 16      \\\\\n",
       "\t281 & TTN      & 12       & 15       & 19       & 22      \\\\\n",
       "\t282 & TYRO3    &  1       &  5       &  1       & 10      \\\\\n",
       "\t285 & UBR5     &  2       &  5       &  2       &  5      \\\\\n",
       "\\end{tabular}\n"
      ],
      "text/markdown": [
       "\n",
       "| <!--/--> | SigGeneList | ResponderCounts | NonResponderCounts | MutationsInResponders | MutationsInNonResponders | \n",
       "|---|---|---|---|---|---|---|---|---|---|---|---|\n",
       "| 9 | ANKRD30A |  2       |  5       |  2       |  5       | \n",
       "| 136 | KMT2C    |  7       |  1       | 19       |  1       | \n",
       "| 143 | LAMA3    |  6       |  1       |  6       |  1       | \n",
       "| 163 | MUC5B    |  1       |  4       |  1       |  4       | \n",
       "| 165 | MYCBP2   |  6       |  1       |  7       |  1       | \n",
       "| 233 | RICTOR   |  1       |  4       |  1       |  4       | \n",
       "| 266 | SYNE1    |  7       |  2       |  9       |  3       | \n",
       "| 274 | TG       |  6       |  1       |  6       |  1       | \n",
       "| 277 | TP53     |  9       | 13       | 11       | 16       | \n",
       "| 281 | TTN      | 12       | 15       | 19       | 22       | \n",
       "| 282 | TYRO3    |  1       |  5       |  1       | 10       | \n",
       "| 285 | UBR5     |  2       |  5       |  2       |  5       | \n",
       "\n",
       "\n"
      ],
      "text/plain": [
       "    SigGeneList ResponderCounts NonResponderCounts MutationsInResponders\n",
       "9   ANKRD30A     2               5                  2                   \n",
       "136 KMT2C        7               1                 19                   \n",
       "143 LAMA3        6               1                  6                   \n",
       "163 MUC5B        1               4                  1                   \n",
       "165 MYCBP2       6               1                  7                   \n",
       "233 RICTOR       1               4                  1                   \n",
       "266 SYNE1        7               2                  9                   \n",
       "274 TG           6               1                  6                   \n",
       "277 TP53         9              13                 11                   \n",
       "281 TTN         12              15                 19                   \n",
       "282 TYRO3        1               5                  1                   \n",
       "285 UBR5         2               5                  2                   \n",
       "    MutationsInNonResponders\n",
       "9    5                      \n",
       "136  1                      \n",
       "143  1                      \n",
       "163  4                      \n",
       "165  1                      \n",
       "233  4                      \n",
       "266  3                      \n",
       "274  1                      \n",
       "277 16                      \n",
       "281 22                      \n",
       "282 10                      \n",
       "285  5                      "
      ]
     },
     "metadata": {},
     "output_type": "display_data"
    }
   ],
   "source": [
    "# The following codes will re-run \"Pairwise Fisher Exact Test\" on patient counts base\n",
    "# The computations on the paired combinations of these 330 genes are equal to 330^2= 108900 gene pairs.\n",
    "    \n",
    "\n",
    "gene1 <- \"0\"\n",
    "gene2 <- \"0\"\n",
    "FisherExactTest.p_value <- 0\n",
    "for (i in 1:nrow(SignificantGeneDistribution))  {\n",
    "  for (j in 1:nrow(SignificantGeneDistribution)){\n",
    "  Enrichment <-\n",
    "   matrix(c(SignificantGeneDistribution[i,2],SignificantGeneDistribution[j,2],SignificantGeneDistribution[i,3],SignificantGeneDistribution[j,3]), nrow = 2, dimnames =\n",
    "            list(c(SignificantGeneDistribution[i,1], SignificantGeneDistribution[j,1]),\n",
    "                 c(\"Responders\", \"NonResponders\")))\n",
    "  gene1 <- append(gene1,SignificantGeneDistribution[i,1])\n",
    "  gene2 <- append(gene2,SignificantGeneDistribution[j,1])\n",
    "  FisherExactTest.p_value <- append(FisherExactTest.p_value, fisher.test(Enrichment)$p.value) \n",
    "  }\n",
    "}\n",
    "FisherExactPairwiseInPatients <- data.frame(\"gene1\" = gene1, \"gene2\" = gene2, \"FisherExactTest.p_value\" = FisherExactTest.p_value, stringsAsFactors=FALSE)\n",
    "FisherExactPairwiseInPatients <- FisherExactPairwiseInPatients[-c(1),]\n",
    "FisherExactPairwiseInPatientsSignificant <- FisherExactPairwiseInPatients[which(FisherExactPairwiseInPatients$FisherExactTest.p_value<=0.05), ]\n",
    "FisherExactPairwiseInPatientsSignificant <- FisherExactPairwiseInPatientsSignificant[order(FisherExactPairwiseInPatientsSignificant$FisherExactTest.p_value), ]\n",
    "\n",
    "# write.csv(FisherExactPairwiseInPatientsSignificant, file=paste(\"./FisherExactPairwiseInPatientsSignificant_\", d, \".csv\", sep=\"\"), row.names=FALSE)\n",
    "MostSignificantGeneList <- levels(factor(FisherExactPairwiseInPatientsSignificant$gene2))\n",
    "SignificantGeneDistribution <- SignificantGeneDistribution[-which(SignificantGeneDistribution$SigGeneList==\"ARID1A\"),] \n",
    "# write.csv(SignificantGeneDistribution, file=paste(\"./SignificantGeneDistribution_\", d, \".csv\", sep=\"\"), row.names=FALSE)\n",
    "SignificantGeneDistributionByPatients <- subset(SignificantGeneDistribution, (SignificantGeneDistribution$SigGeneList %in% MostSignificantGeneList))\n",
    "# write.csv(SignificantGeneDistributionByPatients, file=paste(\"./SignificantGeneDistributionByPatients_\", d, \".csv\", sep=\"\"), row.names=FALSE)\n",
    "SignificantGenesAcrossPatients <- subset(TotalPatientMAFwithoutSilentSpliceSite, (TotalPatientMAFwithoutSilentSpliceSite$Hugo_Symbol %in% MostSignificantGeneList))\n",
    "SignificantGenesAcrossPatients <- SignificantGenesAcrossPatients[-which(SignificantGenesAcrossPatients$Hugo_Symbol==\"ARID1A\"),] \n",
    "# SignificantGenesAcrossPatients <- arrange.vars(SignificantGenesAcrossPatients, c(\"Patient_ID\"=1, \"Hugo_Symbol\"=2, \"Protein_Change\"=3, \"ProteinMutationFreq\"=4))\n",
    "SignificantGenesAcrossPatients <- SignificantGenesAcrossPatients[order(SignificantGenesAcrossPatients$Patient_ID),]\n",
    "# write.csv(SignificantGenesAcrossPatients, file=paste(\"./SignificantGenesAcrossTotalPatients_\", d, \".csv\", sep=\"\"), row.names=FALSE)\n",
    "# head(SignificantGenesAcrossPatients, 12)\n",
    "head(SignificantGeneDistributionByPatients,12)\n",
    "\n",
    "# The following result indicated the significant gene list has further dropped down to 12 genes from 331 genes\n",
    "# if using the table based on patient counts"
   ]
  },
  {
   "cell_type": "code",
   "execution_count": 188,
   "metadata": {},
   "outputs": [
    {
     "data": {
      "image/png": "[encoded data removed]",
      "text/plain": [
       "Plot with title \"Quantity of significant 12 mutated genes in responders and non-responders (4 genes are overlapped)\""
      ]
     },
     "metadata": {},
     "output_type": "display_data"
    }
   ],
   "source": [
    "x <- SignificantGeneDistributionByPatients$MutationsInResponders\n",
    "y <- SignificantGeneDistributionByPatients$MutationsInNonResponders\n",
    "plot(x, y, main = \"Quantity of significant 12 mutated genes in responders and non-responders (4 genes are overlapped)\",\n",
    "     xlab = \"Counts in Responders\", ylab = \"Counts in Non-Responders\", pch = 19, frame = FALSE)\n",
    "abline(lm(y ~ x, data = SignificantGeneDistributionByPatients), col = \"blue\")\n",
    "with(SignificantGeneDistributionByPatients, text(NonResponderCounts~ResponderCounts,labels=SignificantGeneDistributionByPatients$SigGeneList, pos=3, cex=0.9, font=2))\n"
   ]
  },
  {
   "cell_type": "markdown",
   "metadata": {},
   "source": [
    "# Conclusions:\n",
    "\n",
    "(1). Logistic regression identified 4 genes their mutations were associated with the cancer drug response\n",
    "\n",
    "(2). Pairwise Fisher Exact Test (on total mutation counts) identified 330 genes were associated with cancer drug response\n",
    "\n",
    "(3). Pairwise Fisher Exact Test (on total patient counts) identified only 12 genes were associated with cancer drug response\n",
    "\n",
    "(4). The 330 genes do contain the 12 genes and the 12 genes do contain the 4 genes identified by logistic regression\n"
   ]
  }
 ],
 "metadata": {
  "kernelspec": {
   "display_name": "R",
   "language": "R",
   "name": "ir"
  },
  "language_info": {
   "codemirror_mode": "r",
   "file_extension": ".r",
   "mimetype": "text/x-r-source",
   "name": "R",
   "pygments_lexer": "r",
   "version": "3.5.1"
  }
 },
 "nbformat": 4,
 "nbformat_minor": 2
}
